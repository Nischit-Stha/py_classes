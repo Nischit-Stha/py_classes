{
  "nbformat": 4,
  "nbformat_minor": 0,
  "metadata": {
    "colab": {
      "provenance": [],
      "authorship_tag": "ABX9TyPZsqEfFynoR6drC1s1lKK6",
      "include_colab_link": true
    },
    "kernelspec": {
      "name": "python3",
      "display_name": "Python 3"
    },
    "language_info": {
      "name": "python"
    }
  },
  "cells": [
    {
      "cell_type": "markdown",
      "metadata": {
        "id": "view-in-github",
        "colab_type": "text"
      },
      "source": [
        "<a href=\"https://colab.research.google.com/github/Nischit-Stha/py_classes/blob/main/python_classes.ipynb\" target=\"_parent\"><img src=\"https://colab.research.google.com/assets/colab-badge.svg\" alt=\"Open In Colab\"/></a>"
      ]
    },
    {
      "cell_type": "code",
      "execution_count": null,
      "metadata": {
        "id": "86KrxXTu4PAQ"
      },
      "outputs": [],
      "source": [
        "#day 1"
      ]
    },
    {
      "cell_type": "code",
      "source": [
        "print(\"Hello\")"
      ],
      "metadata": {
        "id": "CqnpM9O35FvS",
        "colab": {
          "base_uri": "https://localhost:8080/"
        },
        "outputId": "9649ec6a-710d-4b3c-c3e8-c10cb1ffc783"
      },
      "execution_count": null,
      "outputs": [
        {
          "output_type": "stream",
          "name": "stdout",
          "text": [
            "Hello\n"
          ]
        }
      ]
    },
    {
      "cell_type": "code",
      "source": [
        "s=(\"Hello world\")\n",
        "print(s.lower())\n",
        "print(s)\n"
      ],
      "metadata": {
        "id": "RdK5UwXj-9oF",
        "outputId": "8b675ca8-259f-4b19-a43d-8ca8af31f97c",
        "colab": {
          "base_uri": "https://localhost:8080/"
        }
      },
      "execution_count": null,
      "outputs": [
        {
          "output_type": "stream",
          "name": "stdout",
          "text": [
            "hello world\n",
            "Hello world\n"
          ]
        }
      ]
    },
    {
      "cell_type": "code",
      "source": [
        "s= (\"                                                                       Everyone is pro PROGRAMMER \")\n",
        "print(s.lstrip())"
      ],
      "metadata": {
        "id": "sGL6uoGk5PyW",
        "colab": {
          "base_uri": "https://localhost:8080/"
        },
        "outputId": "db3500e9-fed2-415c-8f9a-3eb2f6552457"
      },
      "execution_count": null,
      "outputs": [
        {
          "output_type": "stream",
          "name": "stdout",
          "text": [
            "Everyone is pro PROGRAMMER \n"
          ]
        }
      ]
    },
    {
      "cell_type": "code",
      "source": [
        "# prompt: strip the sentence \"HE is  BENN  1000000000\n",
        "\n",
        "s = \"HE is  BENN  1000000000\"\n",
        "print(s.strip())\n",
        "\n",
        "\n",
        "\n"
      ],
      "metadata": {
        "id": "Vinp6VpzAu9E",
        "outputId": "20b0aada-9a94-4656-e22f-7a1f08c95934",
        "colab": {
          "base_uri": "https://localhost:8080/"
        }
      },
      "execution_count": null,
      "outputs": [
        {
          "output_type": "stream",
          "name": "stdout",
          "text": [
            "HE is  BENN  1000000000\n"
          ]
        }
      ]
    },
    {
      "cell_type": "code",
      "source": [
        "strip helps to remove space from  infornt or back of the\n",
        "sentence for\n",
        "there are two type of striip\n",
        "lstrip\n",
        "and rstrip\n",
        "\n"
      ],
      "metadata": {
        "id": "YcbviTD-BO9O",
        "outputId": "cee2024e-b2cf-4686-ee51-1045e371ea25",
        "colab": {
          "base_uri": "https://localhost:8080/",
          "height": 106
        }
      },
      "execution_count": null,
      "outputs": [
        {
          "output_type": "error",
          "ename": "SyntaxError",
          "evalue": "invalid syntax (<ipython-input-9-061da66470eb>, line 1)",
          "traceback": [
            "\u001b[0;36m  File \u001b[0;32m\"<ipython-input-9-061da66470eb>\"\u001b[0;36m, line \u001b[0;32m1\u001b[0m\n\u001b[0;31m    strip helps to remove space from  infornt or back of the\u001b[0m\n\u001b[0m          ^\u001b[0m\n\u001b[0;31mSyntaxError\u001b[0m\u001b[0;31m:\u001b[0m invalid syntax\n"
          ]
        }
      ]
    },
    {
      "cell_type": "code",
      "source": [
        "#split\n",
        "s= \"Hello world\"\n",
        "print(s.split())"
      ],
      "metadata": {
        "id": "GVV8neJWBeRt",
        "outputId": "159f948c-41bc-4cae-b04e-a23eff87209d",
        "colab": {
          "base_uri": "https://localhost:8080/"
        }
      },
      "execution_count": null,
      "outputs": [
        {
          "output_type": "stream",
          "name": "stdout",
          "text": [
            "['Hello', 'world']\n"
          ]
        }
      ]
    },
    {
      "cell_type": "code",
      "source": [
        "#join\n",
        "s=\"\"\n",
        "world = \"He is\", \" spiderman\"\n",
        "print(s.join(world))"
      ],
      "metadata": {
        "id": "HLRbqCANC0IH",
        "outputId": "1e3326dc-3d1b-4ca0-94f9-7d0b6e76e2ff",
        "colab": {
          "base_uri": "https://localhost:8080/"
        }
      },
      "execution_count": null,
      "outputs": [
        {
          "output_type": "stream",
          "name": "stdout",
          "text": [
            "He is spiderman\n"
          ]
        }
      ]
    },
    {
      "cell_type": "code",
      "source": [
        "#isdigit\n",
        "s=\"1234\"\n",
        "print(s.isdigit())"
      ],
      "metadata": {
        "id": "GZ6jCkvXC7Pi",
        "outputId": "50ab0d5d-3e4a-45b5-c6d0-6ead47c22b61",
        "colab": {
          "base_uri": "https://localhost:8080/"
        }
      },
      "execution_count": null,
      "outputs": [
        {
          "output_type": "stream",
          "name": "stdout",
          "text": [
            "True\n"
          ]
        }
      ]
    },
    {
      "cell_type": "code",
      "source": [
        "#isupper\n",
        "s=\"HELLO\"\n",
        "print(s.isupper())\n"
      ],
      "metadata": {
        "id": "s7AYzanZEosT",
        "outputId": "6dcd3bc0-16dc-4ee3-c7d0-27c3da677b3f",
        "colab": {
          "base_uri": "https://localhost:8080/"
        }
      },
      "execution_count": null,
      "outputs": [
        {
          "output_type": "stream",
          "name": "stdout",
          "text": [
            "True\n"
          ]
        }
      ]
    },
    {
      "cell_type": "code",
      "source": [
        "#day 2\n",
        "\n"
      ],
      "metadata": {
        "id": "Lu1DmoeiEsV2"
      },
      "execution_count": null,
      "outputs": []
    },
    {
      "cell_type": "code",
      "source": [
        "#day 2\n",
        "\n",
        "# List examples\n",
        "\n",
        "# Creating a list\n",
        "my_list = [1, 2, 3, 4, 5]\n",
        "print(my_list)\n",
        "\n",
        "# Accessing elements\n",
        "print(my_list[0])  # Accessing the first element (index 0)\n",
        "print(my_list[-1]) # Accessing the last element\n",
        "\n",
        "# Slicing a list\n",
        "print(my_list[1:4]) # Elements from index 1 up to (but not including) index 4\n",
        "print(my_list[:3])  # Elements from the beginning up to (but not including) index 3\n",
        "print(my_list[2:])  # Elements from index 2 to the end\n",
        "\n",
        "# Modifying a list\n",
        "my_list[0] = 10\n",
        "print(my_list)\n",
        "\n",
        "# Appending elements\n",
        "my_list.append(6)\n",
        "print(my_list)\n",
        "\n",
        "# Inserting elements\n",
        "my_list.insert(2, 7) # Insert 7 at index 2\n",
        "print(my_list)\n",
        "\n",
        "# Removing elements\n",
        "my_list.remove(4)  # Removes the first occurrence of 4\n",
        "print(my_list)\n",
        "\n",
        "my_list.pop(3)    # Removes the element at index 3\n",
        "print(my_list)\n",
        "\n",
        "# List concatenation\n",
        "list1 = [1, 2, 3]\n",
        "list2 = [4, 5, 6]\n",
        "list3 = list1 + list2\n",
        "print(list3)\n",
        "\n",
        "# List repetition\n",
        "repeated_list = list1 * 3\n",
        "print(repeated_list)\n",
        "\n",
        "\n",
        "# Iterating through a list\n",
        "for item in my_list:\n",
        "  print(item)\n",
        "\n",
        "# Checking if an item exists in a list\n",
        "if 10 in my_list:\n",
        "  print(\"10 is in the list\")\n",
        "\n",
        "\n",
        "# List comprehension\n",
        "squares = [x**2 for x in range(1,6)]\n",
        "print(squares)\n",
        "\n",
        "\n",
        "# Other list methods\n",
        "\n",
        "# len() - Returns the number of elements in the list\n",
        "# min(), max() - Returns the minimum/maximum value in the list\n",
        "# sum() - Returns the sum of all elements in the list\n",
        "# sorted() - Returns a new sorted list\n",
        "# reverse() - Reverses the elements in-place\n",
        "\n",
        "#Nested lists\n",
        "\n",
        "nested_list = [[1,2,3], [4,5,6], [7,8,9]]\n",
        "print(nested_list[1][0]) #accesses 4\n",
        "\n",
        "# Example demonstrating list methods\n",
        "numbers = [3, 1, 4, 1, 5, 9, 2, 6]\n",
        "print(f\"Length of the list: {len(numbers)}\")\n",
        "print(f\"Minimum value in the list: {min(numbers)}\")\n",
        "print(f\"Maximum value in the list: {max(numbers)}\")\n",
        "print(f\"Sum of all elements in the list: {sum(numbers)}\")\n",
        "print(f\"Sorted list: {sorted(numbers)}\")\n",
        "numbers.reverse()\n",
        "print(f\"Reversed list: {numbers}\")\n"
      ],
      "metadata": {
        "id": "ctI8H1Q6EpnX",
        "outputId": "bfb17dc0-29cc-44e4-abb5-24e342d12569",
        "colab": {
          "base_uri": "https://localhost:8080/"
        }
      },
      "execution_count": null,
      "outputs": [
        {
          "output_type": "stream",
          "name": "stdout",
          "text": [
            "[1, 2, 3, 4, 5]\n",
            "1\n",
            "5\n",
            "[2, 3, 4]\n",
            "[1, 2, 3]\n",
            "[3, 4, 5]\n",
            "[10, 2, 3, 4, 5]\n",
            "[10, 2, 3, 4, 5, 6]\n",
            "[10, 2, 7, 3, 4, 5, 6]\n",
            "[10, 2, 7, 3, 5, 6]\n",
            "[10, 2, 7, 5, 6]\n",
            "[1, 2, 3, 4, 5, 6]\n",
            "[1, 2, 3, 1, 2, 3, 1, 2, 3]\n",
            "10\n",
            "2\n",
            "7\n",
            "5\n",
            "6\n",
            "10 is in the list\n",
            "[1, 4, 9, 16, 25]\n",
            "4\n",
            "Length of the list: 8\n",
            "Minimum value in the list: 1\n",
            "Maximum value in the list: 9\n",
            "Sum of all elements in the list: 31\n",
            "Sorted list: [1, 1, 2, 3, 4, 5, 6, 9]\n",
            "Reversed list: [6, 2, 9, 5, 1, 4, 1, 3]\n"
          ]
        }
      ]
    },
    {
      "cell_type": "code",
      "source": [
        "numbers=[1,2,3,4,5]\n",
        "numbers[1:4]=[6,7,8,9,10]\n",
        "print(numbers)"
      ],
      "metadata": {
        "id": "TKJyptT-LCXs",
        "outputId": "02d6d012-ad01-4683-cd71-ee58a44f0c88",
        "colab": {
          "base_uri": "https://localhost:8080/"
        }
      },
      "execution_count": null,
      "outputs": [
        {
          "output_type": "stream",
          "name": "stdout",
          "text": [
            "[1, 6, 7, 8, 9, 10, 5]\n"
          ]
        }
      ]
    },
    {
      "cell_type": "code",
      "source": [
        "Numbers=[1,2,3,4,5]\n",
        "Numbers= (x for x in Numbers if x%2!=0)\n",
        "print(Numbers)\n"
      ],
      "metadata": {
        "id": "Fi3T69BCLhDj",
        "colab": {
          "base_uri": "https://localhost:8080/"
        },
        "outputId": "9c0a1b6c-5050-4140-ee2a-c2554afdf6d0"
      },
      "execution_count": null,
      "outputs": [
        {
          "output_type": "stream",
          "name": "stdout",
          "text": [
            "<generator object <genexpr> at 0x7c36c1d026c0>\n"
          ]
        }
      ]
    },
    {
      "cell_type": "code",
      "source": [
        "Numbers=[1,2,3,4,5,6,7]\n",
        "Numbers= [x for x in Numbers if x%2!=0]\n",
        "print(Numbers)"
      ],
      "metadata": {
        "colab": {
          "base_uri": "https://localhost:8080/"
        },
        "id": "9UM4mge1IxEV",
        "outputId": "62616649-7a8c-46ab-9fc9-8a6bd3ccc2cf"
      },
      "execution_count": null,
      "outputs": [
        {
          "output_type": "stream",
          "name": "stdout",
          "text": [
            "[1, 3, 5, 7]\n"
          ]
        }
      ]
    },
    {
      "cell_type": "code",
      "source": [
        "Numbers=[1,2,3,4,5,6,7]\n",
        "Numbers= [x for x in Numbers if x%2==0]\n",
        "print(Numbers)\n"
      ],
      "metadata": {
        "colab": {
          "base_uri": "https://localhost:8080/"
        },
        "id": "AiIIYKy8JO9I",
        "outputId": "8e72c285-bb94-4a50-85c1-00570a85141c"
      },
      "execution_count": null,
      "outputs": [
        {
          "output_type": "stream",
          "name": "stdout",
          "text": [
            "[2, 4, 6]\n"
          ]
        }
      ]
    },
    {
      "cell_type": "code",
      "source": [
        "numbers=[1,2,3,4,5,6,7,8,9,0]\n",
        "oddnum=[]\n",
        "evennum=[]\n",
        "for i in numbers:\n",
        "    if i%2==0:\n",
        "        evennum.append(i)\n",
        "    else:\n",
        "        oddnum.append(i)\n",
        "print(evennum)\n",
        "print(oddnum)\n",
        "sortnum= sorted(numbers)\n",
        "print(sortnum)\n",
        "\n"
      ],
      "metadata": {
        "colab": {
          "base_uri": "https://localhost:8080/"
        },
        "id": "8qXmodnOJecz",
        "outputId": "2baf1270-4c61-4984-e0e5-0cb7f42d257d"
      },
      "execution_count": null,
      "outputs": [
        {
          "output_type": "stream",
          "name": "stdout",
          "text": [
            "[2, 4, 6, 8, 0]\n",
            "[1, 3, 5, 7, 9]\n",
            "[0, 1, 2, 3, 4, 5, 6, 7, 8, 9]\n"
          ]
        }
      ]
    },
    {
      "cell_type": "code",
      "source": [
        "unknown=[[1,2,3,4],[5,6,7,8,]]\n",
        "print(unknown[1][2])\n"
      ],
      "metadata": {
        "colab": {
          "base_uri": "https://localhost:8080/"
        },
        "id": "x3TSuiZMQnqh",
        "outputId": "83611060-41eb-475a-d01e-18d8c5334420"
      },
      "execution_count": null,
      "outputs": [
        {
          "output_type": "stream",
          "name": "stdout",
          "text": [
            "7\n"
          ]
        }
      ]
    },
    {
      "cell_type": "code",
      "source": [
        "unknown=[[1,2,3],[4,5,6],[7,8,9]]\n",
        "for i in range(len(unknown)):\n",
        "    print(unknown[i][i])\n",
        "print(len(unknown))\n",
        "print(sum(unknown[0]))"
      ],
      "metadata": {
        "colab": {
          "base_uri": "https://localhost:8080/"
        },
        "id": "U6DpshK2RWkM",
        "outputId": "1d8b6007-00e6-4186-ef9a-654fa2ea33c5"
      },
      "execution_count": null,
      "outputs": [
        {
          "output_type": "stream",
          "name": "stdout",
          "text": [
            "1\n",
            "5\n",
            "9\n",
            "3\n",
            "6\n"
          ]
        }
      ]
    },
    {
      "cell_type": "code",
      "source": [],
      "metadata": {
        "colab": {
          "base_uri": "https://localhost:8080/"
        },
        "id": "QWDJwREVSC7j",
        "outputId": "626be39d-c242-4313-8b41-2b90f36d60e7"
      },
      "execution_count": null,
      "outputs": [
        {
          "output_type": "stream",
          "name": "stdout",
          "text": [
            "1\n",
            "2\n"
          ]
        }
      ]
    },
    {
      "cell_type": "code",
      "source": [
        "unknown=[[1,2,3],[4,5,6],[7,8,9]]\n",
        "total_sum=0\n",
        "for i in range(len(unknown)):\n",
        "  for j in range(len(unknown[i])):\n",
        "    total_sum=total_sum + unknown[i][j]\n",
        "print(total_sum)"
      ],
      "metadata": {
        "colab": {
          "base_uri": "https://localhost:8080/"
        },
        "id": "iBh7A5guVmnx",
        "outputId": "f45073ab-3fb0-45b7-a3c9-204b643209b7"
      },
      "execution_count": null,
      "outputs": [
        {
          "output_type": "stream",
          "name": "stdout",
          "text": [
            "45\n"
          ]
        }
      ]
    },
    {
      "cell_type": "code",
      "source": [
        "\n",
        "\n",
        "#copy list\n",
        "thislist=[\"apple\",\"banana\",\"cherry\"]\n",
        "mylist=thislist.copy()\n",
        "thislist.append(\"orange\")\n",
        "print(thislist)\n",
        "print(mylist)\n",
        "thislist.reverse()\n",
        "print(thislist)\n",
        "\n"
      ],
      "metadata": {
        "colab": {
          "base_uri": "https://localhost:8080/"
        },
        "id": "Ld23ANQNXjc2",
        "outputId": "a161e3a2-5bea-4e4a-99c0-b5efb0d88142"
      },
      "execution_count": null,
      "outputs": [
        {
          "output_type": "stream",
          "name": "stdout",
          "text": [
            "['apple', 'banana', 'cherry', 'orange']\n",
            "['apple', 'banana', 'cherry']\n",
            "['orange', 'cherry', 'banana', 'apple']\n"
          ]
        }
      ]
    },
    {
      "cell_type": "code",
      "source": [
        "tup1=(1,2,3,4,5)\n",
        "tup2=(6,7,8,9,0)\n",
        "tup1.extendtup2\n",
        "print(tup1)"
      ],
      "metadata": {
        "colab": {
          "base_uri": "https://localhost:8080/",
          "height": 193
        },
        "id": "e_LEJF1zdElU",
        "outputId": "e2ec02b0-504b-43f7-b894-8397c73566b2"
      },
      "execution_count": null,
      "outputs": [
        {
          "output_type": "error",
          "ename": "AttributeError",
          "evalue": "'tuple' object has no attribute 'extendtup2'",
          "traceback": [
            "\u001b[0;31m---------------------------------------------------------------------------\u001b[0m",
            "\u001b[0;31mAttributeError\u001b[0m                            Traceback (most recent call last)",
            "\u001b[0;32m<ipython-input-64-5e2f614540a1>\u001b[0m in \u001b[0;36m<cell line: 3>\u001b[0;34m()\u001b[0m\n\u001b[1;32m      1\u001b[0m \u001b[0mtup1\u001b[0m\u001b[0;34m=\u001b[0m\u001b[0;34m(\u001b[0m\u001b[0;36m1\u001b[0m\u001b[0;34m,\u001b[0m\u001b[0;36m2\u001b[0m\u001b[0;34m,\u001b[0m\u001b[0;36m3\u001b[0m\u001b[0;34m,\u001b[0m\u001b[0;36m4\u001b[0m\u001b[0;34m,\u001b[0m\u001b[0;36m5\u001b[0m\u001b[0;34m)\u001b[0m\u001b[0;34m\u001b[0m\u001b[0;34m\u001b[0m\u001b[0m\n\u001b[1;32m      2\u001b[0m \u001b[0mtup2\u001b[0m\u001b[0;34m=\u001b[0m\u001b[0;34m(\u001b[0m\u001b[0;36m6\u001b[0m\u001b[0;34m,\u001b[0m\u001b[0;36m7\u001b[0m\u001b[0;34m,\u001b[0m\u001b[0;36m8\u001b[0m\u001b[0;34m,\u001b[0m\u001b[0;36m9\u001b[0m\u001b[0;34m,\u001b[0m\u001b[0;36m0\u001b[0m\u001b[0;34m)\u001b[0m\u001b[0;34m\u001b[0m\u001b[0;34m\u001b[0m\u001b[0m\n\u001b[0;32m----> 3\u001b[0;31m \u001b[0mtup1\u001b[0m\u001b[0;34m.\u001b[0m\u001b[0mextendtup2\u001b[0m\u001b[0;34m\u001b[0m\u001b[0;34m\u001b[0m\u001b[0m\n\u001b[0m\u001b[1;32m      4\u001b[0m \u001b[0mprint\u001b[0m\u001b[0;34m(\u001b[0m\u001b[0mtup1\u001b[0m\u001b[0;34m)\u001b[0m\u001b[0;34m\u001b[0m\u001b[0;34m\u001b[0m\u001b[0m\n",
            "\u001b[0;31mAttributeError\u001b[0m: 'tuple' object has no attribute 'extendtup2'"
          ]
        }
      ]
    },
    {
      "cell_type": "code",
      "source": [
        "#converting touple into list\n",
        "Tup1=(1,2,3,4,5)\n",
        "Tup2=(6,7,8,9,0)\n",
        "tup1=list(Tup1)\n",
        "tup2=list(Tup2)\n",
        "tup1.extend(tup2)\n",
        "print(tup1)S\n",
        "Tup1=tuple(tup1)\n",
        "print(Tup1)"
      ],
      "metadata": {
        "colab": {
          "base_uri": "https://localhost:8080/"
        },
        "id": "t0JvkLWidzHC",
        "outputId": "e5404fb5-b95a-4325-dc74-8ecfc90a02f8"
      },
      "execution_count": null,
      "outputs": [
        {
          "output_type": "stream",
          "name": "stdout",
          "text": [
            "[1, 2, 3, 4, 5, 6, 7, 8, 9, 0]\n",
            "(1, 2, 3, 4, 5, 6, 7, 8, 9, 0)\n"
          ]
        }
      ]
    },
    {
      "cell_type": "code",
      "source": [
        "#unpacking in tuples\n",
        "fruits=(\"apple\",\"banana\",\"cherry\")\n",
        "(green,yellow,red)=fruits\n",
        "print(green)\n",
        "print(yellow)\n",
        "print(red)"
      ],
      "metadata": {
        "colab": {
          "base_uri": "https://localhost:8080/"
        },
        "id": "oxlvThtyeWLy",
        "outputId": "98c08fc7-42a2-47a8-d3e6-293f1c49e734"
      },
      "execution_count": null,
      "outputs": [
        {
          "output_type": "stream",
          "name": "stdout",
          "text": [
            "apple\n",
            "banana\n",
            "cherry\n"
          ]
        }
      ]
    },
    {
      "cell_type": "code",
      "source": [
        "thistuple = (\"apple\", \"banana\", \"cherry\")\n",
        "for i in range(len(thistuple)):\n",
        "  print(thistuple[i])\n",
        "\n"
      ],
      "metadata": {
        "colab": {
          "base_uri": "https://localhost:8080/"
        },
        "id": "EgzglVnsZ76i",
        "outputId": "1bddbd13-d8f5-4f1a-daf1-d04c150346bc"
      },
      "execution_count": null,
      "outputs": [
        {
          "output_type": "stream",
          "name": "stdout",
          "text": [
            "apple\n",
            "banana\n",
            "cherry\n"
          ]
        }
      ]
    },
    {
      "cell_type": "code",
      "source": [
        "#day 3"
      ],
      "metadata": {
        "id": "f9U5SjEfbA6-"
      },
      "execution_count": null,
      "outputs": []
    },
    {
      "cell_type": "code",
      "source": [
        "# prompt: set in python\n",
        "\n",
        "# Set examples\n",
        "\n",
        "# Creating a set\n",
        "my_set = {1, 2, 3, 4, 5}\n",
        "print(my_set)\n",
        "\n",
        "# Accessing elements (sets are unordered, so direct access by index is not possible)\n",
        "# You can iterate through the set or check for membership\n",
        "for item in my_set:\n",
        "  print(item)\n",
        "\n",
        "if 3 in my_set:\n",
        "  print(\"3 is in the set\")\n",
        "\n",
        "# Adding elements\n",
        "my_set.add(6)\n",
        "print(my_set)\n",
        "\n",
        "# Removing elements\n",
        "my_set.remove(3)  # Raises KeyError if the element is not present\n",
        "print(my_set)\n",
        "\n",
        "my_set.discard(7) # Doesn't raise an error if the element is not present\n",
        "print(my_set)\n",
        "\n",
        "my_set.pop()      # Removes and returns an arbitrary element\n",
        "print(my_set)\n",
        "\n",
        "my_set.clear()    # Removes all elements from the set\n",
        "print(my_set)\n",
        "\n",
        "\n",
        "# Set operations\n",
        "\n",
        "set1 = {1, 2, 3}\n",
        "set2 = {3, 4, 5}\n",
        "\n",
        "# Union (elements in either set)\n",
        "union_set = set1 | set2\n",
        "print(f\"Union: {union_set}\")\n",
        "\n",
        "# Intersection (elements in both sets)\n",
        "intersection_set = set1 & set2\n",
        "print(f\"Intersection: {intersection_set}\")\n",
        "\n",
        "\n",
        "# Difference (elements in set1 but not in set2)\n",
        "difference_set = set1 - set2\n",
        "print(f\"Difference (set1 - set2): {difference_set}\")\n",
        "\n",
        "# Symmetric difference (elements in either set but not both)\n",
        "symmetric_difference_set = set1 ^ set2\n",
        "print(f\"Symmetric Difference: {symmetric_difference_set}\")\n",
        "\n",
        "\n",
        "# Set membership test\n",
        "if 2 in set1:\n",
        "    print(\"2 is present in set1\")\n",
        "else:\n",
        "    print(\"2 is not present in set1\")\n",
        "\n",
        "\n",
        "# Set methods\n",
        "# add(): Adds an element to the set\n",
        "# update(): Adds multiple elements to the set\n",
        "# remove(): Removes an element from the set; raises KeyError if not found\n",
        "# discard(): Removes an element from the set; does nothing if not found\n",
        "# pop(): Removes and returns an arbitrary element from the set\n",
        "# clear(): Removes all elements from the set\n",
        "# copy(): Returns a shallow copy of the set\n",
        "# union(): Returns a new set containing all elements from both sets\n",
        "# intersection(): Returns a new set containing common elements\n",
        "# difference(): Returns a new set containing elements in the first set but not in the second set\n",
        "# symmetric_difference(): Returns a new set containing elements in either set, but not both\n",
        "# isdisjoint(): Returns True if two sets have a null intersection\n",
        "# issubset(): Returns True if another set contains this set\n",
        "# issuperset(): Returns True if this set contains another set\n",
        "\n",
        "# Example of using update\n",
        "my_set = {1,2}\n",
        "my_set.update([3, 4, 5], {6,7})\n",
        "my_set"
      ],
      "metadata": {
        "colab": {
          "base_uri": "https://localhost:8080/"
        },
        "id": "_unUIiVzbHuU",
        "outputId": "774f3d4c-3fef-4036-af69-da60f382d3aa"
      },
      "execution_count": null,
      "outputs": [
        {
          "output_type": "stream",
          "name": "stdout",
          "text": [
            "{1, 2, 3, 4, 5}\n",
            "1\n",
            "2\n",
            "3\n",
            "4\n",
            "5\n",
            "3 is in the set\n",
            "{1, 2, 3, 4, 5, 6}\n",
            "{1, 2, 4, 5, 6}\n",
            "{1, 2, 4, 5, 6}\n",
            "{2, 4, 5, 6}\n",
            "set()\n",
            "Union: {1, 2, 3, 4, 5}\n",
            "Intersection: {3}\n",
            "Difference (set1 - set2): {1, 2}\n",
            "Symmetric Difference: {1, 2, 4, 5}\n",
            "2 is present in set1\n"
          ]
        },
        {
          "output_type": "execute_result",
          "data": {
            "text/plain": [
              "{1, 2, 3, 4, 5, 6, 7}"
            ]
          },
          "metadata": {},
          "execution_count": 5
        }
      ]
    },
    {
      "cell_type": "code",
      "source": [
        "fruits={\"apple\",\"banana\",\"cherry\",\"1\",\"2\",\"3\",\"4\",\"5\"}\n",
        "fruits.add(\"orange\")\n",
        "print(fruits)"
      ],
      "metadata": {
        "colab": {
          "base_uri": "https://localhost:8080/"
        },
        "id": "a2-s1PPEbONO",
        "outputId": "18d7e189-2acd-4ec8-df1c-2bb8c0932252"
      },
      "execution_count": null,
      "outputs": [
        {
          "output_type": "stream",
          "name": "stdout",
          "text": [
            "{'2', 'orange', 'apple', '5', 'cherry', '4', '3', '1', 'banana'}\n"
          ]
        }
      ]
    },
    {
      "cell_type": "code",
      "source": [
        "#update in set\n",
        "fruits={\"apple\",\"banana\",\"cherry\",\"1\",\"2\",\"3\",\"4\",\"5\"}\n",
        "fruits.update([\"orange\",\"kiwi\"])\n",
        "print(fruits)"
      ],
      "metadata": {
        "colab": {
          "base_uri": "https://localhost:8080/"
        },
        "id": "oLvyG0oedexF",
        "outputId": "8eaec107-ee42-4af0-a207-c889df49b8c0"
      },
      "execution_count": null,
      "outputs": [
        {
          "output_type": "stream",
          "name": "stdout",
          "text": [
            "{'2', 'orange', 'apple', '5', 'cherry', '4', 'kiwi', '3', '1', 'banana'}\n"
          ]
        }
      ]
    },
    {
      "cell_type": "code",
      "source": [
        "#pop\n",
        "qns= {\"who\", \"is\", \"president\", \"of\", \"india\"}\n",
        "qns.pop()\n",
        "print(qns)"
      ],
      "metadata": {
        "colab": {
          "base_uri": "https://localhost:8080/"
        },
        "id": "IAEJ0RoDd5z7",
        "outputId": "344cccd9-b7b9-445e-d0b2-48bf51e088eb"
      },
      "execution_count": null,
      "outputs": [
        {
          "output_type": "stream",
          "name": "stdout",
          "text": [
            "{'of', 'who', 'is', 'president'}\n"
          ]
        }
      ]
    },
    {
      "cell_type": "code",
      "source": [
        "set1={1,2,3,4,5}\n",
        "set2={6,7,8,9,0}\n",
        "set3={\"i\",\"is\",\"hero\"}\n",
        "set4={1,2,3}\n",
        "finalsetUnion=set1 | set2 | set3 | set4\n",
        "finalsetIntersection=set1 & set4\n",
        "print(finalsetUnion)\n",
        "print(finalsetIntersection)"
      ],
      "metadata": {
        "colab": {
          "base_uri": "https://localhost:8080/"
        },
        "id": "AIhEqkJLfpsW",
        "outputId": "1245c6df-ee14-419e-dcbc-b15a43d54528"
      },
      "execution_count": null,
      "outputs": [
        {
          "output_type": "stream",
          "name": "stdout",
          "text": [
            "{0, 1, 2, 3, 4, 5, 6, 7, 8, 9, 'is', 'i', 'hero'}\n",
            "{1, 2, 3}\n"
          ]
        }
      ]
    },
    {
      "cell_type": "code",
      "source": [
        "lst1 =[(1,2,-21),(2,3,1),(3,4,0),(1,0,0),(1,11,3)]\n",
        "#out put 3,4=7\n",
        "for x in lst1:\n",
        "  y= sum(x)\n",
        "  print(y)\n",
        "  greatestsum=max(lst1)\n",
        "print(greatestsum)\n"
      ],
      "metadata": {
        "colab": {
          "base_uri": "https://localhost:8080/",
          "height": 211
        },
        "id": "dMarp66chYv-",
        "outputId": "ab8b48f1-be7e-4e26-b921-89e1d2f543b0"
      },
      "execution_count": null,
      "outputs": [
        {
          "output_type": "error",
          "ename": "TypeError",
          "evalue": "'tuple' object is not callable",
          "traceback": [
            "\u001b[0;31m---------------------------------------------------------------------------\u001b[0m",
            "\u001b[0;31mTypeError\u001b[0m                                 Traceback (most recent call last)",
            "\u001b[0;32m<ipython-input-65-dda1cafc8150>\u001b[0m in \u001b[0;36m<cell line: 3>\u001b[0;34m()\u001b[0m\n\u001b[1;32m      2\u001b[0m \u001b[0;31m#out put 3,4=7\u001b[0m\u001b[0;34m\u001b[0m\u001b[0;34m\u001b[0m\u001b[0m\n\u001b[1;32m      3\u001b[0m \u001b[0;32mfor\u001b[0m \u001b[0mx\u001b[0m \u001b[0;32min\u001b[0m \u001b[0mlst1\u001b[0m\u001b[0;34m:\u001b[0m\u001b[0;34m\u001b[0m\u001b[0;34m\u001b[0m\u001b[0m\n\u001b[0;32m----> 4\u001b[0;31m   \u001b[0my\u001b[0m\u001b[0;34m=\u001b[0m \u001b[0msum\u001b[0m\u001b[0;34m(\u001b[0m\u001b[0mx\u001b[0m\u001b[0;34m)\u001b[0m\u001b[0;34m\u001b[0m\u001b[0;34m\u001b[0m\u001b[0m\n\u001b[0m\u001b[1;32m      5\u001b[0m   \u001b[0mprint\u001b[0m\u001b[0;34m(\u001b[0m\u001b[0my\u001b[0m\u001b[0;34m)\u001b[0m\u001b[0;34m\u001b[0m\u001b[0;34m\u001b[0m\u001b[0m\n\u001b[1;32m      6\u001b[0m   \u001b[0mgreatestsum\u001b[0m\u001b[0;34m=\u001b[0m\u001b[0mmax\u001b[0m\u001b[0;34m(\u001b[0m\u001b[0mlst1\u001b[0m\u001b[0;34m)\u001b[0m\u001b[0;34m\u001b[0m\u001b[0;34m\u001b[0m\u001b[0m\n",
            "\u001b[0;31mTypeError\u001b[0m: 'tuple' object is not callable"
          ]
        }
      ]
    },
    {
      "cell_type": "code",
      "source": [
        "ben=[(1,2,21),(2,3,1),(3,4,0),(1,0,0),(1,11,3)]\n",
        "ben.sort()\n",
        "print(ben)\n",
        "for x in ben:\n",
        "  print(sum(x))\n",
        "\n"
      ],
      "metadata": {
        "colab": {
          "base_uri": "https://localhost:8080/",
          "height": 211
        },
        "id": "gaOTQP-fpPxa",
        "outputId": "8c939546-aa62-4858-afee-eb368797a245"
      },
      "execution_count": null,
      "outputs": [
        {
          "output_type": "stream",
          "name": "stdout",
          "text": [
            "[(1, 0, 0), (1, 2, 21), (1, 11, 3), (2, 3, 1), (3, 4, 0)]\n"
          ]
        },
        {
          "output_type": "error",
          "ename": "TypeError",
          "evalue": "'tuple' object is not callable",
          "traceback": [
            "\u001b[0;31m---------------------------------------------------------------------------\u001b[0m",
            "\u001b[0;31mTypeError\u001b[0m                                 Traceback (most recent call last)",
            "\u001b[0;32m<ipython-input-78-dd0cd645ff28>\u001b[0m in \u001b[0;36m<cell line: 4>\u001b[0;34m()\u001b[0m\n\u001b[1;32m      3\u001b[0m \u001b[0mprint\u001b[0m\u001b[0;34m(\u001b[0m\u001b[0mben\u001b[0m\u001b[0;34m)\u001b[0m\u001b[0;34m\u001b[0m\u001b[0;34m\u001b[0m\u001b[0m\n\u001b[1;32m      4\u001b[0m \u001b[0;32mfor\u001b[0m \u001b[0mx\u001b[0m \u001b[0;32min\u001b[0m \u001b[0mben\u001b[0m\u001b[0;34m:\u001b[0m\u001b[0;34m\u001b[0m\u001b[0;34m\u001b[0m\u001b[0m\n\u001b[0;32m----> 5\u001b[0;31m   \u001b[0mprint\u001b[0m\u001b[0;34m(\u001b[0m\u001b[0msum\u001b[0m\u001b[0;34m(\u001b[0m\u001b[0mx\u001b[0m\u001b[0;34m)\u001b[0m\u001b[0;34m)\u001b[0m\u001b[0;34m\u001b[0m\u001b[0;34m\u001b[0m\u001b[0m\n\u001b[0m\u001b[1;32m      6\u001b[0m \u001b[0;34m\u001b[0m\u001b[0m\n",
            "\u001b[0;31mTypeError\u001b[0m: 'tuple' object is not callable"
          ]
        }
      ]
    },
    {
      "cell_type": "code",
      "source": [
        "ben=[(1,2,21),(2,3,1),(3,4,0),(1,0,0),(1,11,3)]\n",
        "ben.sort()\n",
        "print(ben)\n",
        "# The issue is that the built-in 'sum' function has been overwritten by a tuple\n",
        "# Solution: Delete the 'sum' variable to restore the built-in function\n",
        "for x in ben:\n",
        "  print(sum(x))\n",
        "  # i need to find maximum amonng"
      ],
      "metadata": {
        "colab": {
          "base_uri": "https://localhost:8080/"
        },
        "id": "tcI9RCuQparo",
        "outputId": "090cb249-e927-434d-89dd-ddbc8e8a3902"
      },
      "execution_count": null,
      "outputs": [
        {
          "output_type": "stream",
          "name": "stdout",
          "text": [
            "[(1, 0, 0), (1, 2, 21), (1, 11, 3), (2, 3, 1), (3, 4, 0)]\n",
            "1\n",
            "24\n",
            "15\n",
            "6\n",
            "7\n",
            "(3, 4, 0)\n"
          ]
        }
      ]
    },
    {
      "cell_type": "code",
      "source": [
        "\n",
        "ben=[(1,2,21),(2,3,1),(3,4,0),(1,0,0),(1,11,3)]\n",
        "max_sum = 0\n",
        "max_tuple = ()\n",
        "\n",
        "for tup in ben:\n",
        "    current_sum = sum(tup)\n",
        "    if current_sum > max_sum:\n",
        "        max_sum = current_sum\n",
        "        max_tuple = tup\n",
        "\n",
        "print(f\"{max_tuple}={max_sum}\")"
      ],
      "metadata": {
        "colab": {
          "base_uri": "https://localhost:8080/"
        },
        "id": "vW-mh9i8ql4K",
        "outputId": "473d898d-6f6b-49dd-e916-af213642e1f6"
      },
      "execution_count": null,
      "outputs": [
        {
          "output_type": "stream",
          "name": "stdout",
          "text": [
            "(1, 2, 21)=24\n"
          ]
        }
      ]
    },
    {
      "cell_type": "code",
      "source": [
        "\n",
        "ben=[(1,2,3,),(4,5,6),(7,8,9)]\n",
        "max_sum=0\n",
        "max_tup=()\n",
        "\n",
        "for x in ben:\n",
        "  currentsum=sum(x)\n",
        "  if currentsum > max_sum:\n",
        "    max_sum= currentsum\n",
        "    max_tup= x\n",
        "    print(f\"{max_tup}={max_sum}\")\n"
      ],
      "metadata": {
        "id": "VboqCCbgsAtY"
      },
      "execution_count": null,
      "outputs": []
    },
    {
      "cell_type": "code",
      "source": [
        "#create password generator using python\n",
        "import random\n",
        "def generate_password(length=8, include_uppercase=True, include_digits=True, include_lowercase=True):\n",
        "  characters=\"\"\n",
        "  if include_uppercase:\n",
        "    characters+=\"ABCDEFGHIJKLMNOPQRSTUVWXYZ\"\n",
        "  if include_digits:\n",
        "    characters+=\"0123456789\"\n",
        "  if include_lowercase:\n",
        "    characters+=\"abcdefghijklmnopqrstuvwxyz\"\n",
        "    password=''.join(random.choice(characters) for _ in range(length))\n",
        "  return password\n",
        "password=generate_password()\n",
        "password\n"
      ],
      "metadata": {
        "colab": {
          "base_uri": "https://localhost:8080/",
          "height": 36
        },
        "id": "KC_RdXW5wi94",
        "outputId": "71955478-f96e-42f3-9ce4-5ae2afdd9ff5"
      },
      "execution_count": null,
      "outputs": [
        {
          "output_type": "execute_result",
          "data": {
            "text/plain": [
              "'vsx4M8Ea'"
            ],
            "application/vnd.google.colaboratory.intrinsic+json": {
              "type": "string"
            }
          },
          "metadata": {},
          "execution_count": 25
        }
      ]
    },
    {
      "cell_type": "code",
      "source": [
        "#day 4\n",
        "# converting list into set\n",
        "lst=[1,2,3,4,5,6,6,4,3,2]\n",
        "set1=set(lst)\n",
        "print(lst)\n",
        "list1=list(set1)\n",
        "print(list1)\n",
        "\n"
      ],
      "metadata": {
        "id": "QJSetCqX330B",
        "colab": {
          "base_uri": "https://localhost:8080/"
        },
        "outputId": "468c0b69-e0b9-446c-e325-1ced0e203729"
      },
      "execution_count": null,
      "outputs": [
        {
          "output_type": "stream",
          "name": "stdout",
          "text": [
            "[1, 2, 3, 4, 5, 6, 6, 4, 3, 2]\n",
            "[1, 2, 3, 4, 5, 6]\n"
          ]
        }
      ]
    },
    {
      "cell_type": "code",
      "source": [
        "# Dictionary examples\n",
        "\n",
        "# Creating a dictionary\n",
        "my_dict = {\"name\": \"Alice\", \"age\": 30, \"city\": \"New York\"}\n",
        "print(my_dict)\n",
        "\n",
        "# Accessing values\n",
        "print(my_dict[\"name\"])  # Accessing the value associated with the key \"name\"\n",
        "print(my_dict.get(\"age\")) # Accessing the value using the get() method (returns None if key not found)\n",
        "\n",
        "# Adding or modifying key-value pairs\n",
        "my_dict[\"occupation\"] = \"Software Engineer\"  # Adding a new key-value pair\n",
        "print(my_dict)\n",
        "\n",
        "my_dict[\"age\"] = 31  # Modifying the value associated with an existing key\n",
        "print(my_dict)\n",
        "\n",
        "\n",
        "# Removing key-value pairs\n",
        "del my_dict[\"city\"]  # Deleting a key-value pair\n",
        "print(my_dict)\n",
        "\n",
        "my_dict.pop(\"occupation\") # Removes and returns the value associated with the key\n",
        "print(my_dict)\n",
        "\n",
        "\n",
        "# Iterating through a dictionary\n",
        "for key in my_dict:\n",
        "    print(key, my_dict[key])\n",
        "\n",
        "\n",
        "# Iterating through keys and values\n",
        "for key, value in my_dict.items():\n",
        "    print(key, value)\n",
        "\n",
        "\n",
        "# Checking if a key exists\n",
        "if \"name\" in my_dict:\n",
        "    print(\"The key 'name' exists in the dictionary\")\n",
        "\n",
        "\n",
        "# Dictionary methods\n",
        "\n",
        "# keys(): Returns a view object containing the keys of the dictionary\n",
        "# values(): Returns a view object containing the values of the dictionary\n",
        "# items(): Returns a view object containing key-value pairs as tuples\n",
        "# get(): Returns the value for a specified key; returns None if key not found (or a specified default value)\n",
        "# update(): Updates the dictionary with elements from another dictionary or iterable\n",
        "# pop(): Removes and returns the value associated with a specified key\n",
        "# popitem(): Removes and returns an arbitrary key-value pair\n",
        "# clear(): Removes all items from the dictionary\n",
        "# copy(): Returns a shallow copy of the dictionary\n",
        "\n",
        "# Example of using update\n",
        "dict1 = {\"a\": 1, \"b\": 2}\n",
        "dict2 = {\"c\": 3, \"d\": 4}\n",
        "dict1.update(dict2)\n",
        "print(dict1)\n",
        "\n",
        "\n",
        "# Example of nested dictionaries\n",
        "nested_dict = {\n",
        "    \"person1\": {\"name\": \"Bob\", \"age\": 25},\n",
        "    \"person2\": {\"name\": \"Charlie\", \"age\": 28},\n",
        "}\n",
        "\n",
        "print(nested_dict[\"person1\"][\"name\"]) # Accessing a value in a nested dictionary\n",
        "\n",
        "#Dictionary comprehension\n",
        "squares={x: x*x for x in range(6)}\n",
        "squares\n",
        "\n",
        "#More dictionary methods and examples can be added here."
      ],
      "metadata": {
        "colab": {
          "base_uri": "https://localhost:8080/"
        },
        "id": "qYIehrUBmyWM",
        "outputId": "9cd5cc3c-1b86-476f-ad2d-2ad5b7e2900e"
      },
      "execution_count": null,
      "outputs": [
        {
          "output_type": "stream",
          "name": "stdout",
          "text": [
            "{'name': 'Alice', 'age': 30, 'city': 'New York'}\n",
            "Alice\n",
            "30\n",
            "{'name': 'Alice', 'age': 30, 'city': 'New York', 'occupation': 'Software Engineer'}\n",
            "{'name': 'Alice', 'age': 31, 'city': 'New York', 'occupation': 'Software Engineer'}\n",
            "{'name': 'Alice', 'age': 31, 'occupation': 'Software Engineer'}\n",
            "{'name': 'Alice', 'age': 31}\n",
            "name Alice\n",
            "age 31\n",
            "name Alice\n",
            "age 31\n",
            "The key 'name' exists in the dictionary\n",
            "{'a': 1, 'b': 2, 'c': 3, 'd': 4}\n",
            "Bob\n"
          ]
        },
        {
          "output_type": "execute_result",
          "data": {
            "text/plain": [
              "{0: 0, 1: 1, 2: 4, 3: 9, 4: 16, 5: 25}"
            ]
          },
          "metadata": {},
          "execution_count": 5
        }
      ]
    },
    {
      "cell_type": "code",
      "source": [
        "my_dict = {\"name\": \"Alice\", \"age\": 30, \"name\": \"New York\"}\n",
        "print(my_dict[\"name\"])\n",
        "print(my_dict.get(\"address\",\"address not found\"))\n",
        "my_dict[\"occupation\"] = \"Software Engineer\"\n",
        "my_dict[\"name\"]=31\n",
        "print(my_dict)\n"
      ],
      "metadata": {
        "colab": {
          "base_uri": "https://localhost:8080/"
        },
        "id": "10KkyBhknHQk",
        "outputId": "d6faeddf-b74d-45a1-fd79-36b44a5bab4a"
      },
      "execution_count": null,
      "outputs": [
        {
          "output_type": "stream",
          "name": "stdout",
          "text": [
            "New York\n",
            "address not found\n",
            "{'name': 31, 'age': 30, 'occupation': 'Software Engineer'}\n"
          ]
        }
      ]
    },
    {
      "cell_type": "code",
      "source": [
        "# looping through a dict\n",
        "my_dict = {\"name\": \"Alice\", \"age\": 30, \"city\": \"New York\"}\n",
        "for key in my_dict:\n",
        "  print(key, ':', my_dict[key])\n",
        "  for x in my_dict:\n",
        "    if my_dict[x]==30:\n",
        "      print(x)"
      ],
      "metadata": {
        "colab": {
          "base_uri": "https://localhost:8080/"
        },
        "id": "cIsG2Q-ynNTX",
        "outputId": "bafea7c7-bbbb-413d-d10f-6d55c2a75896"
      },
      "execution_count": null,
      "outputs": [
        {
          "output_type": "stream",
          "name": "stdout",
          "text": [
            "name : Alice\n",
            "age\n",
            "age : 30\n",
            "age\n",
            "city : New York\n",
            "age\n"
          ]
        }
      ]
    },
    {
      "cell_type": "code",
      "source": [
        "# nested dictionary\n",
        "student={\n",
        "    'name': 'Spiderman',\n",
        "    'age': 16,\n",
        "    'marks': {\n",
        "        'maths': 90,\n",
        "        'science': 95,\n",
        "        'history': 85\n",
        "    }\n",
        "}\n",
        "print(student)\n",
        "print(student['marks'])\n",
        "print(student['name'])\n",
        "print(student['age'])\n",
        "student['marks']['English']=10\n",
        "print(student)\n",
        "for k,v in student.items():\n",
        "  if type(v)==dict:\n",
        "    print(f\"key:{k},values:{v}\")\n",
        "\n"
      ],
      "metadata": {
        "colab": {
          "base_uri": "https://localhost:8080/"
        },
        "id": "-HoqAD2iqjX9",
        "outputId": "471d2f53-2d1a-4863-854e-769691b9e787"
      },
      "execution_count": null,
      "outputs": [
        {
          "output_type": "stream",
          "name": "stdout",
          "text": [
            "{'name': 'Spiderman', 'age': 16, 'marks': {'maths': 90, 'science': 95, 'history': 85}}\n",
            "{'maths': 90, 'science': 95, 'history': 85}\n",
            "Spiderman\n",
            "16\n",
            "{'name': 'Spiderman', 'age': 16, 'marks': {'maths': 90, 'science': 95, 'history': 85, 'English': 10}}\n",
            "key:marks,values:{'maths': 90, 'science': 95, 'history': 85, 'English': 10}\n"
          ]
        }
      ]
    },
    {
      "cell_type": "code",
      "source": [
        "#day 5"
      ],
      "metadata": {
        "id": "ve419Y3KthKs"
      },
      "execution_count": null,
      "outputs": []
    },
    {
      "cell_type": "code",
      "source": [
        "# prompt: basic codes used in function in python\n",
        "\n",
        "def analyze_code(code_lines):\n",
        "    \"\"\"\n",
        "    Analyzes Python code lines and performs basic operations.\n",
        "\n",
        "    Args:\n",
        "        code_lines: A list of strings, where each string represents a line of code.\n",
        "    \"\"\"\n",
        "\n",
        "    # Example operations: (you can expand this function to perform various other analyses)\n",
        "    line_count = len(code_lines)\n",
        "    print(f\"Total lines of code: {line_count}\")\n",
        "\n",
        "    # Count occurrences of specific keywords or patterns\n",
        "    import_count = sum(1 for line in code_lines if line.startswith(\"import\"))\n",
        "    print(f\"Number of import statements: {import_count}\")\n",
        "\n",
        "    print_statements = [line for line in code_lines if \"print(\" in line]\n",
        "    print(f\"Number of print statements: {len(print_statements)}\")\n",
        "\n",
        "    # Find lines with comments\n",
        "    comment_lines = [line for line in code_lines if \"#\" in line]\n",
        "    print(f\"Number of lines with comments: {len(comment_lines)}\")\n",
        "\n",
        "# Example Usage (assuming the code is in 'code_file.txt'):\n",
        "try:\n",
        "  with open('filename.txt', 'r') as file:\n",
        "    code_lines = file.readlines()\n",
        "    analyze_code(code_lines)\n",
        "except FileNotFoundError:\n",
        "  print(\"File not found.\")"
      ],
      "metadata": {
        "colab": {
          "base_uri": "https://localhost:8080/"
        },
        "id": "xRjadA-AujkP",
        "outputId": "28c85768-bf7d-4a64-8e71-36f76b483d72"
      },
      "execution_count": null,
      "outputs": [
        {
          "output_type": "stream",
          "name": "stdout",
          "text": [
            "File not found.\n"
          ]
        }
      ]
    },
    {
      "cell_type": "code",
      "source": [
        "#impleting function\n",
        "\n",
        "def sub(x,y):\n",
        "  result=x-y\n",
        "  print(\"difference is\",result)\n",
        "  return x-y\n",
        "sub(2,3)"
      ],
      "metadata": {
        "colab": {
          "base_uri": "https://localhost:8080/"
        },
        "id": "76L-1-5hwPIF",
        "outputId": "5a3c0306-4655-4047-cf0b-0b0ed0443089"
      },
      "execution_count": null,
      "outputs": [
        {
          "output_type": "stream",
          "name": "stdout",
          "text": [
            "difference is -1\n"
          ]
        },
        {
          "output_type": "execute_result",
          "data": {
            "text/plain": [
              "-1"
            ]
          },
          "metadata": {},
          "execution_count": 5
        }
      ]
    },
    {
      "cell_type": "code",
      "source": [
        "def addition(x):\n",
        "  print(\"the value of x is\",x)\n",
        "  sum_value=sum(x)\n",
        "  max_value=max(x)\n",
        "  min_value=min(x)\n",
        "  return sum_value,max_value,min_value\n",
        "\n",
        "\n",
        "lst=[1,2,3,4,5,7,8]\n",
        "result= addition(lst)\n",
        "print(result)"
      ],
      "metadata": {
        "colab": {
          "base_uri": "https://localhost:8080/"
        },
        "id": "rt_06h9KwZPR",
        "outputId": "e59c047f-cc13-42bf-80e5-c54ef6f7801c"
      },
      "execution_count": null,
      "outputs": [
        {
          "output_type": "stream",
          "name": "stdout",
          "text": [
            "the value of x is [1, 2, 3, 4, 5, 7, 8]\n",
            "(30, 8, 1)\n"
          ]
        }
      ]
    },
    {
      "cell_type": "code",
      "source": [
        "def add1(x,y=99):\n",
        " result=x+y\n",
        " return result\n",
        "result=add1(10)\n",
        "print(result)"
      ],
      "metadata": {
        "colab": {
          "base_uri": "https://localhost:8080/"
        },
        "id": "SHJ61-WtzT-L",
        "outputId": "594fd3ee-97cf-4cfc-f7a6-d47453ba4230"
      },
      "execution_count": null,
      "outputs": [
        {
          "output_type": "stream",
          "name": "stdout",
          "text": [
            "109\n"
          ]
        }
      ]
    },
    {
      "cell_type": "code",
      "source": [
        "def sub1(x,y=99):\n",
        " result=x-y\n",
        " return result\n",
        "result=sub1(10)\n",
        "print(result)"
      ],
      "metadata": {
        "colab": {
          "base_uri": "https://localhost:8080/"
        },
        "id": "s4BIgx_w4Y7I",
        "outputId": "7dff6fd8-d7d4-4708-b311-79025ce71f0b"
      },
      "execution_count": null,
      "outputs": [
        {
          "output_type": "stream",
          "name": "stdout",
          "text": [
            "-89\n"
          ]
        }
      ]
    },
    {
      "cell_type": "code",
      "source": [
        "1#create calculator\n",
        "\n",
        "x=int(input(\"enter first number\"))\n",
        "y=int(input(\"enter second number\"))\n",
        "print(\"select operation\")\n",
        "print(\"1.add\")\n",
        "print(\"2.sub\")\n",
        "print(\"3.mul\")\n",
        "print(\"4.div\")\n",
        "option= int(input(\"enter option\"))\n",
        "def add(x,y):\n",
        "  return x+y\n",
        "def sub(x,y):\n",
        "  return x-y\n",
        "def mul(x,y):\n",
        "  return x*y\n",
        "def div(x,y):\n",
        "  return x/y\n",
        "if option==1:\n",
        "  result=add(x,y)\n",
        "  print(result)\n",
        "elif option==2:\n",
        "  result=sub(x,y)\n",
        "  print(result)\n",
        "elif option==3:\n",
        "  result=mul(x,y)\n",
        "  print(result)\n",
        "elif option==4:\n",
        "  result=div(x,y)\n",
        "  print(result)\n",
        "else:\n",
        "  print(\"invalid option\")\n",
        "\n"
      ],
      "metadata": {
        "id": "ZOtkrJFL442_",
        "colab": {
          "base_uri": "https://localhost:8080/",
          "height": 349
        },
        "outputId": "07625aff-4078-449b-d52a-bdbb7909bc3d"
      },
      "execution_count": null,
      "outputs": [
        {
          "name": "stdout",
          "output_type": "stream",
          "text": [
            "enter first number5\n",
            "enter second number7\n",
            "select operation\n",
            "1.add\n",
            "2.sub\n",
            "3.mul\n",
            "4.div\n",
            "enter option1\n"
          ]
        },
        {
          "output_type": "error",
          "ename": "NameError",
          "evalue": "name 'add' is not defined",
          "traceback": [
            "\u001b[0;31m---------------------------------------------------------------------------\u001b[0m",
            "\u001b[0;31mNameError\u001b[0m                                 Traceback (most recent call last)",
            "\u001b[0;32m<ipython-input-3-21f6a680fa5b>\u001b[0m in \u001b[0;36m<cell line: 11>\u001b[0;34m()\u001b[0m\n\u001b[1;32m     10\u001b[0m \u001b[0moption\u001b[0m\u001b[0;34m=\u001b[0m \u001b[0mint\u001b[0m\u001b[0;34m(\u001b[0m\u001b[0minput\u001b[0m\u001b[0;34m(\u001b[0m\u001b[0;34m\"enter option\"\u001b[0m\u001b[0;34m)\u001b[0m\u001b[0;34m)\u001b[0m\u001b[0;34m\u001b[0m\u001b[0;34m\u001b[0m\u001b[0m\n\u001b[1;32m     11\u001b[0m \u001b[0;32mif\u001b[0m \u001b[0moption\u001b[0m\u001b[0;34m==\u001b[0m\u001b[0;36m1\u001b[0m\u001b[0;34m:\u001b[0m\u001b[0;34m\u001b[0m\u001b[0;34m\u001b[0m\u001b[0m\n\u001b[0;32m---> 12\u001b[0;31m   \u001b[0mresult\u001b[0m\u001b[0;34m=\u001b[0m\u001b[0madd\u001b[0m\u001b[0;34m(\u001b[0m\u001b[0mx\u001b[0m\u001b[0;34m,\u001b[0m\u001b[0my\u001b[0m\u001b[0;34m)\u001b[0m\u001b[0;34m\u001b[0m\u001b[0;34m\u001b[0m\u001b[0m\n\u001b[0m\u001b[1;32m     13\u001b[0m   \u001b[0mprint\u001b[0m\u001b[0;34m(\u001b[0m\u001b[0mresult\u001b[0m\u001b[0;34m)\u001b[0m\u001b[0;34m\u001b[0m\u001b[0;34m\u001b[0m\u001b[0m\n\u001b[1;32m     14\u001b[0m \u001b[0;32melif\u001b[0m \u001b[0moption\u001b[0m\u001b[0;34m==\u001b[0m\u001b[0;36m2\u001b[0m\u001b[0;34m:\u001b[0m\u001b[0;34m\u001b[0m\u001b[0;34m\u001b[0m\u001b[0m\n",
            "\u001b[0;31mNameError\u001b[0m: name 'add' is not defined"
          ]
        }
      ]
    },
    {
      "cell_type": "code",
      "source": [
        "# crate a database\n",
        "student={\n",
        "    1: {'name': 'Spiderman',\n",
        "    'age': 16,\n",
        "    'marks': {\n",
        "        'maths': 90,\n",
        "        'science': 95,\n",
        "        'history': 85\n",
        "    }},\n",
        "\n",
        "          2 : { 'name': 'Tony stark',\n",
        "    'age': 22,\n",
        "    'marks': {\n",
        "        'maths': 99,\n",
        "        'science': 95,\n",
        "        'history': 98\n",
        "    }},\n",
        "       3 : { 'name': 'Captain America',\n",
        "    'age': 80,\n",
        "    'marks': {\n",
        "        'maths': 97,\n",
        "        'science': 91,\n",
        "        'history': 92\n",
        "    }}\n",
        "\n",
        "}\n",
        "stud_number= int(input(\"enter student number\"))\n",
        "if stud_number ==1:\n",
        "  print(student[1])\n",
        "elif stud_number ==2:\n",
        "  print(student[2])\n",
        "elif stud_number ==3:\n",
        "  print(student[3])\n",
        "else:\n",
        "  print(\"invalid student number\")\n",
        "\n"
      ],
      "metadata": {
        "id": "h2lOK4bY72aF",
        "colab": {
          "base_uri": "https://localhost:8080/"
        },
        "outputId": "67919664-b3f1-4d4c-e268-a0f45cb411d8"
      },
      "execution_count": 3,
      "outputs": [
        {
          "output_type": "stream",
          "name": "stdout",
          "text": [
            "enter student number1\n",
            "{'name': 'Spiderman', 'age': 16, 'marks': {'maths': 90, 'science': 95, 'history': 85}}\n"
          ]
        }
      ]
    },
    {
      "cell_type": "code",
      "source": [
        "university_data = {\n",
        "    \"Computer Science\": {\n",
        "        \"CS101\": {\n",
        "            \"professor\": \"Dr. Smith\",\n",
        "            \"students\": [\n",
        "                {\"name\": \"Alice\", \"grade\": 85, \"attendance\": 90},\n",
        "                {\"name\": \"Bob\", \"grade\": 78, \"attendance\": 75},\n",
        "                {\"name\": \"Charlie\", \"grade\": 92, \"attendance\": 88},\n",
        "            ],\n",
        "        },\n",
        "        \"CS102\": {\n",
        "            \"professor\": \"Dr. Johnson\",\n",
        "            \"students\": [\n",
        "                {\"name\": \"David\", \"grade\": 89, \"attendance\": 95},\n",
        "                {\"name\": \"Eve\", \"grade\": 74, \"attendance\": 80},\n",
        "            ],\n",
        "        },\n",
        "    },\n",
        "    \"Mathematics\": {\n",
        "        \"MATH201\": {\n",
        "            \"professor\": \"Dr. Taylor\",\n",
        "            \"students\": [\n",
        "                {\"name\": \"Frank\", \"grade\": 93, \"attendance\": 85},\n",
        "                {\"name\": \"Grace\", \"grade\": 88, \"attendance\": 92},\n",
        "            ],\n",
        "        },\n",
        "        \"MATH202\": {\n",
        "            \"professor\": \"Dr. White\",\n",
        "            \"students\": [\n",
        "                {\"name\": \"Hannah\", \"grade\": 79, \"attendance\": 70},\n",
        "                {\"name\": \"Ian\", \"grade\": 95, \"attendance\": 98},\n",
        "            ],\n",
        "        },\n",
        "    },\n",
        "}\n",
        "for sub in university_data:\n",
        "  for topic in sub:\n",
        "    for grade in topic:\n",
        "      for b in grade:\n",
        "        print(b)\n",
        "\n",
        "\n",
        "\n"
      ],
      "metadata": {
        "id": "_10ukslR8AoT",
        "colab": {
          "base_uri": "https://localhost:8080/"
        },
        "outputId": "16284774-f8d8-4e81-a29d-ecdbfcf45c18"
      },
      "execution_count": 29,
      "outputs": [
        {
          "output_type": "stream",
          "name": "stdout",
          "text": [
            "C\n",
            "o\n",
            "m\n",
            "p\n",
            "u\n",
            "t\n",
            "e\n",
            "r\n",
            " \n",
            "S\n",
            "c\n",
            "i\n",
            "e\n",
            "n\n",
            "c\n",
            "e\n",
            "M\n",
            "a\n",
            "t\n",
            "h\n",
            "e\n",
            "m\n",
            "a\n",
            "t\n",
            "i\n",
            "c\n",
            "s\n"
          ]
        }
      ]
    },
    {
      "cell_type": "code",
      "source": [
        "#---------------------------------day 10"
      ],
      "metadata": {
        "id": "OhD_UHewlc-Q"
      },
      "execution_count": 4,
      "outputs": []
    },
    {
      "cell_type": "code",
      "source": [
        "class negative_error(Exception):\n",
        " def __init__(self, message):\n",
        "   super().__init__(message)\n",
        "\n",
        "class zero_error(Exception):\n",
        " def __init__(self, message):\n",
        "   super().__init__(message)\n",
        "\n",
        "try:\n",
        "  x=-1\n",
        "  if x<0:\n",
        "    raise negative_error(\"sorry. no numbers below zero\")\n",
        "  if x==0:\n",
        "    raise zero_error(\"sorry. no zero\")\n",
        "\n",
        "\n",
        "except negative_error as e:\n",
        "  print(e)\n",
        "  print(\"x value is neagative\")\n",
        "  x=0\n",
        "except zero_error as e:\n",
        "  print(e)\n",
        "  print(\"x value is zero\")\n",
        "  x=1\n",
        "print(x)"
      ],
      "metadata": {
        "colab": {
          "base_uri": "https://localhost:8080/"
        },
        "id": "2FTzgWznncFA",
        "outputId": "82707f57-130f-4b43-baeb-36ef57c2b596"
      },
      "execution_count": 22,
      "outputs": [
        {
          "output_type": "stream",
          "name": "stdout",
          "text": [
            "sorry. no numbers below zero\n",
            "x value is neagative\n",
            "0\n"
          ]
        }
      ]
    },
    {
      "cell_type": "code",
      "source": [
        "class negative_error(Exception):\n",
        " def __init__(self, message):\n",
        "   super().__init__(message)\n",
        "\n",
        "class high_error(Exception):\n",
        " def __init__(self, message):\n",
        "   super().__init__(message)\n",
        "\n",
        "try:\n",
        "  x=int(input(\"enter your age\"))\n",
        "  if x<0:\n",
        "    raise negative_error(\"sorry. no age can be  below zero\")\n",
        "  if x>100:\n",
        "    raise high_error(\"sorry, but it can be exception\")\n",
        "\n",
        "\n",
        "except negative_error as e:\n",
        "  print(e)\n",
        "  print(\"x can't be neagative\")\n",
        "except high_error as e:\n",
        "  print(e)\n",
        "  print(\"normally,x can't be greater than 100\")\n",
        "print(x)\n"
      ],
      "metadata": {
        "colab": {
          "base_uri": "https://localhost:8080/"
        },
        "id": "Y34pHw2moyNZ",
        "outputId": "51a4ed9e-5225-4d86-95b5-c66ceadb61c2"
      },
      "execution_count": 28,
      "outputs": [
        {
          "output_type": "stream",
          "name": "stdout",
          "text": [
            "enter your age01\n",
            "1\n"
          ]
        }
      ]
    },
    {
      "cell_type": "code",
      "source": [
        "\n"
      ],
      "metadata": {
        "id": "WKD_6RJjtxxz"
      },
      "execution_count": 30,
      "outputs": []
    },
    {
      "cell_type": "code",
      "source": [
        "# prompt: #creating a txt file\n",
        "\n",
        "!touch filename.txt\n",
        "file = open(\"filename.txt\", \"w\")\n",
        "file.write(\"Hello, World! This is yaat contecnt have some respect you are tharsg is a aiowl ohajgh bz,leihoadf\")\n",
        "file.close()\n",
        "file = open(\"filename.txt\", \"r\")\n",
        "content = file.read()\n",
        "print(content)\n",
        "file.close()\n",
        "list1=content.split()\n",
        "print(list1)\n",
        "print(list1[1])"
      ],
      "metadata": {
        "colab": {
          "base_uri": "https://localhost:8080/"
        },
        "id": "56YkpRb4wkMG",
        "outputId": "b7ff057f-07fe-4b17-d789-aff5fcd37a77"
      },
      "execution_count": 53,
      "outputs": [
        {
          "output_type": "stream",
          "name": "stdout",
          "text": [
            "Hello, World! This is yaat contecnt have some respect you are tharsg is a aiowl ohajgh bz,leihoadf\n",
            "['Hello,', 'World!', 'This', 'is', 'yaat', 'contecnt', 'have', 'some', 'respect', 'you', 'are', 'tharsg', 'is', 'a', 'aiowl', 'ohajgh', 'bz,leihoadf']\n",
            "World!\n"
          ]
        }
      ]
    },
    {
      "cell_type": "code",
      "source": [
        "!touch file.csv\n",
        "import csv\n",
        "with open('file.csv', 'w', newline='') as file:\n",
        "    writer = csv.writer(file)\n",
        "    writer.writerow(['Name', 'Age', 'City'])\n",
        "    writer.writerow(['Alice', 25, 'New York'])\n",
        "\n",
        "with open('file.csv', 'r') as file:\n",
        "    reader = csv.reader(file)\n",
        "    for row in reader:\n",
        "        Name=row[1]\n",
        "        print(row[1])\n",
        "\n",
        ""
      ],
      "metadata": {
        "colab": {
          "base_uri": "https://localhost:8080/"
        },
        "id": "WlHV1_zcwwGW",
        "outputId": "d81d42be-0d18-411d-968d-de5cecfd1e14"
      },
      "execution_count": 4,
      "outputs": [
        {
          "output_type": "stream",
          "name": "stdout",
          "text": [
            "Age\n",
            "25\n"
          ]
        }
      ]
    },
    {
      "cell_type": "code",
      "source": [
        "file_path='example.txt'\n",
        "with open(file_path,'w') as file:\n",
        "  content = file.write(\"he is super m jhweflakwdgfsnlzhi is super man \\n\")\n",
        "with open(file_path,'r') as file:\n",
        "  content=file.read()\n",
        "  print(content)\n",
        "with open(file_path,'x') as file:\n",
        "  new_content=file.write(\"  Here is new line sir\")\n",
        "with open(file_path,'r') as file:\n",
        "  new_content=file.read()\n",
        "  print(new_content)"
      ],
      "metadata": {
        "colab": {
          "base_uri": "https://localhost:8080/",
          "height": 245
        },
        "id": "yyq9Pd4r11nX",
        "outputId": "57ec8385-c79c-4b67-cda7-0665c6a1368d"
      },
      "execution_count": 17,
      "outputs": [
        {
          "output_type": "stream",
          "name": "stdout",
          "text": [
            "he is super m jhweflakwdgfsnlzhi is super man \n",
            "\n"
          ]
        },
        {
          "output_type": "error",
          "ename": "FileExistsError",
          "evalue": "[Errno 17] File exists: 'example.txt'",
          "traceback": [
            "\u001b[0;31m---------------------------------------------------------------------------\u001b[0m",
            "\u001b[0;31mFileExistsError\u001b[0m                           Traceback (most recent call last)",
            "\u001b[0;32m<ipython-input-17-355a9b14fad1>\u001b[0m in \u001b[0;36m<cell line: 7>\u001b[0;34m()\u001b[0m\n\u001b[1;32m      5\u001b[0m   \u001b[0mcontent\u001b[0m\u001b[0;34m=\u001b[0m\u001b[0mfile\u001b[0m\u001b[0;34m.\u001b[0m\u001b[0mread\u001b[0m\u001b[0;34m(\u001b[0m\u001b[0;34m)\u001b[0m\u001b[0;34m\u001b[0m\u001b[0;34m\u001b[0m\u001b[0m\n\u001b[1;32m      6\u001b[0m   \u001b[0mprint\u001b[0m\u001b[0;34m(\u001b[0m\u001b[0mcontent\u001b[0m\u001b[0;34m)\u001b[0m\u001b[0;34m\u001b[0m\u001b[0;34m\u001b[0m\u001b[0m\n\u001b[0;32m----> 7\u001b[0;31m \u001b[0;32mwith\u001b[0m \u001b[0mopen\u001b[0m\u001b[0;34m(\u001b[0m\u001b[0mfile_path\u001b[0m\u001b[0;34m,\u001b[0m\u001b[0;34m'x'\u001b[0m\u001b[0;34m)\u001b[0m \u001b[0;32mas\u001b[0m \u001b[0mfile\u001b[0m\u001b[0;34m:\u001b[0m\u001b[0;34m\u001b[0m\u001b[0;34m\u001b[0m\u001b[0m\n\u001b[0m\u001b[1;32m      8\u001b[0m   \u001b[0mnew_content\u001b[0m\u001b[0;34m=\u001b[0m\u001b[0mfile\u001b[0m\u001b[0;34m.\u001b[0m\u001b[0mwrite\u001b[0m\u001b[0;34m(\u001b[0m\u001b[0;34m\"  Here is new line sir\"\u001b[0m\u001b[0;34m)\u001b[0m\u001b[0;34m\u001b[0m\u001b[0;34m\u001b[0m\u001b[0m\n\u001b[1;32m      9\u001b[0m \u001b[0;32mwith\u001b[0m \u001b[0mopen\u001b[0m\u001b[0;34m(\u001b[0m\u001b[0mfile_path\u001b[0m\u001b[0;34m,\u001b[0m\u001b[0;34m'r'\u001b[0m\u001b[0;34m)\u001b[0m \u001b[0;32mas\u001b[0m \u001b[0mfile\u001b[0m\u001b[0;34m:\u001b[0m\u001b[0;34m\u001b[0m\u001b[0;34m\u001b[0m\u001b[0m\n",
            "\u001b[0;31mFileExistsError\u001b[0m: [Errno 17] File exists: 'example.txt'"
          ]
        }
      ]
    },
    {
      "cell_type": "code",
      "source": [
        "name=str(input(\"enter Name\"))\n",
        "age=int(input(\"enter age\"))\n",
        "city=str(input(\"enter city\"))\n",
        "file_path='example.csv'\n",
        "with open(file_path,'w') as file:\n",
        "  file.write(f\"{name},{age},{city}\\n\")\n",
        "  # writer=file_path.write(\"name\\n\n",
        "with open(file_path,'r') as file:\n",
        "  content=file.read()\n",
        "  print(content)\n",
        "# with open(file_path,'a',newline='') as file:\n",
        "#   writer=csv.writer(file)\n",
        "  # writer.writerow([name,age,city])"
      ],
      "metadata": {
        "colab": {
          "base_uri": "https://localhost:8080/"
        },
        "id": "zlwWOKGu36dc",
        "outputId": "7eba8540-7463-416a-f429-3c3d1d6b2d35"
      },
      "execution_count": 35,
      "outputs": [
        {
          "output_type": "stream",
          "name": "stdout",
          "text": [
            "enter Name234\n",
            "enter age34\n",
            "enter city234\n",
            "234,34,234\n",
            "\n"
          ]
        }
      ]
    },
    {
      "cell_type": "code",
      "source": [
        "21231234\n",
        "`123"
      ],
      "metadata": {
        "colab": {
          "base_uri": "https://localhost:8080/",
          "height": 106
        },
        "id": "mZkIm2cg38Nv",
        "outputId": "3386dd0c-adec-40c2-a0f3-ef654e3abb43"
      },
      "execution_count": 30,
      "outputs": [
        {
          "output_type": "error",
          "ename": "SyntaxError",
          "evalue": "invalid syntax (<ipython-input-30-61fa7849b6a2>, line 2)",
          "traceback": [
            "\u001b[0;36m  File \u001b[0;32m\"<ipython-input-30-61fa7849b6a2>\"\u001b[0;36m, line \u001b[0;32m2\u001b[0m\n\u001b[0;31m    `123\u001b[0m\n\u001b[0m    ^\u001b[0m\n\u001b[0;31mSyntaxError\u001b[0m\u001b[0;31m:\u001b[0m invalid syntax\n"
          ]
        }
      ]
    },
    {
      "cell_type": "code",
      "source": [],
      "metadata": {
        "id": "DI6uC8U72y8O"
      },
      "execution_count": null,
      "outputs": []
    }
  ]
}