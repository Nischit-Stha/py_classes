{
  "nbformat": 4,
  "nbformat_minor": 0,
  "metadata": {
    "colab": {
      "provenance": [],
      "authorship_tag": "ABX9TyM6TBrQJ4ccpzhhsmkw0zf4",
      "include_colab_link": true
    },
    "kernelspec": {
      "name": "python3",
      "display_name": "Python 3"
    },
    "language_info": {
      "name": "python"
    }
  },
  "cells": [
    {
      "cell_type": "markdown",
      "metadata": {
        "id": "view-in-github",
        "colab_type": "text"
      },
      "source": [
        "<a href=\"https://colab.research.google.com/github/Nischit-Stha/py_classes/blob/main/python_classes.ipynb\" target=\"_parent\"><img src=\"https://colab.research.google.com/assets/colab-badge.svg\" alt=\"Open In Colab\"/></a>"
      ]
    },
    {
      "cell_type": "code",
      "execution_count": null,
      "metadata": {
        "id": "86KrxXTu4PAQ"
      },
      "outputs": [],
      "source": [
        "#day 1"
      ]
    },
    {
      "cell_type": "code",
      "source": [
        "print(\"Hello\")"
      ],
      "metadata": {
        "id": "CqnpM9O35FvS",
        "colab": {
          "base_uri": "https://localhost:8080/"
        },
        "outputId": "9649ec6a-710d-4b3c-c3e8-c10cb1ffc783"
      },
      "execution_count": null,
      "outputs": [
        {
          "output_type": "stream",
          "name": "stdout",
          "text": [
            "Hello\n"
          ]
        }
      ]
    },
    {
      "cell_type": "code",
      "source": [
        "s=(\"Hello world\")\n",
        "print(s.lower())\n",
        "print(s)\n"
      ],
      "metadata": {
        "id": "RdK5UwXj-9oF",
        "outputId": "8b675ca8-259f-4b19-a43d-8ca8af31f97c",
        "colab": {
          "base_uri": "https://localhost:8080/"
        }
      },
      "execution_count": null,
      "outputs": [
        {
          "output_type": "stream",
          "name": "stdout",
          "text": [
            "hello world\n",
            "Hello world\n"
          ]
        }
      ]
    },
    {
      "cell_type": "code",
      "source": [
        "s= (\"                                                                       Everyone is pro PROGRAMMER \")\n",
        "print(s.lstrip())"
      ],
      "metadata": {
        "id": "sGL6uoGk5PyW",
        "colab": {
          "base_uri": "https://localhost:8080/"
        },
        "outputId": "db3500e9-fed2-415c-8f9a-3eb2f6552457"
      },
      "execution_count": null,
      "outputs": [
        {
          "output_type": "stream",
          "name": "stdout",
          "text": [
            "Everyone is pro PROGRAMMER \n"
          ]
        }
      ]
    },
    {
      "cell_type": "code",
      "source": [
        "# prompt: strip the sentence \"HE is  BENN  1000000000\n",
        "\n",
        "s = \"HE is  BENN  1000000000\"\n",
        "print(s.strip())\n",
        "\n",
        "\n",
        "\n"
      ],
      "metadata": {
        "id": "Vinp6VpzAu9E",
        "outputId": "20b0aada-9a94-4656-e22f-7a1f08c95934",
        "colab": {
          "base_uri": "https://localhost:8080/"
        }
      },
      "execution_count": null,
      "outputs": [
        {
          "output_type": "stream",
          "name": "stdout",
          "text": [
            "HE is  BENN  1000000000\n"
          ]
        }
      ]
    },
    {
      "cell_type": "code",
      "source": [
        "strip helps to remove space from  infornt or back of the\n",
        "sentence for\n",
        "there are two type of striip\n",
        "lstrip\n",
        "and rstrip\n",
        "\n"
      ],
      "metadata": {
        "id": "YcbviTD-BO9O",
        "outputId": "cee2024e-b2cf-4686-ee51-1045e371ea25",
        "colab": {
          "base_uri": "https://localhost:8080/",
          "height": 106
        }
      },
      "execution_count": null,
      "outputs": [
        {
          "output_type": "error",
          "ename": "SyntaxError",
          "evalue": "invalid syntax (<ipython-input-9-061da66470eb>, line 1)",
          "traceback": [
            "\u001b[0;36m  File \u001b[0;32m\"<ipython-input-9-061da66470eb>\"\u001b[0;36m, line \u001b[0;32m1\u001b[0m\n\u001b[0;31m    strip helps to remove space from  infornt or back of the\u001b[0m\n\u001b[0m          ^\u001b[0m\n\u001b[0;31mSyntaxError\u001b[0m\u001b[0;31m:\u001b[0m invalid syntax\n"
          ]
        }
      ]
    },
    {
      "cell_type": "code",
      "source": [
        "#split\n",
        "s= \"Hello world\"\n",
        "print(s.split())"
      ],
      "metadata": {
        "id": "GVV8neJWBeRt",
        "outputId": "159f948c-41bc-4cae-b04e-a23eff87209d",
        "colab": {
          "base_uri": "https://localhost:8080/"
        }
      },
      "execution_count": null,
      "outputs": [
        {
          "output_type": "stream",
          "name": "stdout",
          "text": [
            "['Hello', 'world']\n"
          ]
        }
      ]
    },
    {
      "cell_type": "code",
      "source": [
        "#join\n",
        "s=\"\"\n",
        "world = \"He is\", \" spiderman\"\n",
        "print(s.join(world))"
      ],
      "metadata": {
        "id": "HLRbqCANC0IH",
        "outputId": "1e3326dc-3d1b-4ca0-94f9-7d0b6e76e2ff",
        "colab": {
          "base_uri": "https://localhost:8080/"
        }
      },
      "execution_count": null,
      "outputs": [
        {
          "output_type": "stream",
          "name": "stdout",
          "text": [
            "He is spiderman\n"
          ]
        }
      ]
    },
    {
      "cell_type": "code",
      "source": [
        "#isdigit\n",
        "s=\"1234\"\n",
        "print(s.isdigit())"
      ],
      "metadata": {
        "id": "GZ6jCkvXC7Pi",
        "outputId": "50ab0d5d-3e4a-45b5-c6d0-6ead47c22b61",
        "colab": {
          "base_uri": "https://localhost:8080/"
        }
      },
      "execution_count": null,
      "outputs": [
        {
          "output_type": "stream",
          "name": "stdout",
          "text": [
            "True\n"
          ]
        }
      ]
    },
    {
      "cell_type": "code",
      "source": [
        "#isupper\n",
        "s=\"HELLO\"\n",
        "print(s.isupper())\n"
      ],
      "metadata": {
        "id": "s7AYzanZEosT",
        "outputId": "6dcd3bc0-16dc-4ee3-c7d0-27c3da677b3f",
        "colab": {
          "base_uri": "https://localhost:8080/"
        }
      },
      "execution_count": null,
      "outputs": [
        {
          "output_type": "stream",
          "name": "stdout",
          "text": [
            "True\n"
          ]
        }
      ]
    },
    {
      "cell_type": "code",
      "source": [
        "#.format\n",
        "s=\"The name is {}\"\n",
        "print(s.format(\"world\"))\n"
      ],
      "metadata": {
        "id": "Lu1DmoeiEsV2",
        "outputId": "2b8c4ad8-2f46-442b-f71b-555d9c90d49f",
        "colab": {
          "base_uri": "https://localhost:8080/"
        }
      },
      "execution_count": 23,
      "outputs": [
        {
          "output_type": "stream",
          "name": "stdout",
          "text": [
            "The name is world\n"
          ]
        }
      ]
    },
    {
      "cell_type": "code",
      "source": [
        "#f-stirng\n",
        "s=f\"Hello world\"\n",
        "print(s)\n"
      ],
      "metadata": {
        "id": "8FI7BBNUFd23",
        "outputId": "e499fbd1-98b4-4d87-a9b7-c8b62296640c",
        "colab": {
          "base_uri": "https://localhost:8080/"
        }
      },
      "execution_count": 22,
      "outputs": [
        {
          "output_type": "stream",
          "name": "stdout",
          "text": [
            "Hello world\n"
          ]
        }
      ]
    },
    {
      "cell_type": "code",
      "source": [
        "#first project completed\n",
        "name ='###########################Hello#Nepal################################'\n",
        "r=name.strip('#')\n",
        "s=r.replace('#',' ')\n",
        "print(s.lower())\n",
        "\n"
      ],
      "metadata": {
        "id": "-LwRrGBBFqa-",
        "outputId": "723d4549-b2c8-4fb7-e9c0-46e6d0608e31",
        "colab": {
          "base_uri": "https://localhost:8080/"
        }
      },
      "execution_count": 36,
      "outputs": [
        {
          "output_type": "stream",
          "name": "stdout",
          "text": [
            "hello nepal\n"
          ]
        }
      ]
    },
    {
      "cell_type": "code",
      "source": [
        "name ='###########################Hello#Nepal################################'\n",
        "print(name.strip('#').replace('#',' ').lower())"
      ],
      "metadata": {
        "id": "4uFIauR-Gxfv",
        "outputId": "42a4b962-ede7-420a-def9-01b3f316c05d",
        "colab": {
          "base_uri": "https://localhost:8080/"
        }
      },
      "execution_count": 37,
      "outputs": [
        {
          "output_type": "stream",
          "name": "stdout",
          "text": [
            "hello nepal\n"
          ]
        }
      ]
    },
    {
      "cell_type": "code",
      "source": [],
      "metadata": {
        "id": "DT_3tfdkJnrE"
      },
      "execution_count": null,
      "outputs": []
    }
  ]
}