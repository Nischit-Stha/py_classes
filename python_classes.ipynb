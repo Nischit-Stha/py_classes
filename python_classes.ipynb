{
  "nbformat": 4,
  "nbformat_minor": 0,
  "metadata": {
    "colab": {
      "provenance": [],
      "authorship_tag": "ABX9TyNv/jormOszAIUH2wjMbrn9",
      "include_colab_link": true
    },
    "kernelspec": {
      "name": "python3",
      "display_name": "Python 3"
    },
    "language_info": {
      "name": "python"
    }
  },
  "cells": [
    {
      "cell_type": "markdown",
      "metadata": {
        "id": "view-in-github",
        "colab_type": "text"
      },
      "source": [
        "<a href=\"https://colab.research.google.com/github/Nischit-Stha/py_classes/blob/main/python_classes.ipynb\" target=\"_parent\"><img src=\"https://colab.research.google.com/assets/colab-badge.svg\" alt=\"Open In Colab\"/></a>"
      ]
    },
    {
      "cell_type": "code",
      "execution_count": null,
      "metadata": {
        "id": "86KrxXTu4PAQ"
      },
      "outputs": [],
      "source": [
        "#day 1"
      ]
    },
    {
      "cell_type": "code",
      "source": [
        "print(\"Hello\")"
      ],
      "metadata": {
        "id": "CqnpM9O35FvS",
        "colab": {
          "base_uri": "https://localhost:8080/"
        },
        "outputId": "9649ec6a-710d-4b3c-c3e8-c10cb1ffc783"
      },
      "execution_count": null,
      "outputs": [
        {
          "output_type": "stream",
          "name": "stdout",
          "text": [
            "Hello\n"
          ]
        }
      ]
    },
    {
      "cell_type": "code",
      "source": [
        "s=(\"Hello world\")\n",
        "print(s.lower())\n",
        "print(s)\n"
      ],
      "metadata": {
        "id": "RdK5UwXj-9oF",
        "outputId": "8b675ca8-259f-4b19-a43d-8ca8af31f97c",
        "colab": {
          "base_uri": "https://localhost:8080/"
        }
      },
      "execution_count": null,
      "outputs": [
        {
          "output_type": "stream",
          "name": "stdout",
          "text": [
            "hello world\n",
            "Hello world\n"
          ]
        }
      ]
    },
    {
      "cell_type": "code",
      "source": [
        "s= (\"                                                                       Everyone is pro PROGRAMMER \")\n",
        "print(s.lstrip())"
      ],
      "metadata": {
        "id": "sGL6uoGk5PyW",
        "colab": {
          "base_uri": "https://localhost:8080/"
        },
        "outputId": "db3500e9-fed2-415c-8f9a-3eb2f6552457"
      },
      "execution_count": null,
      "outputs": [
        {
          "output_type": "stream",
          "name": "stdout",
          "text": [
            "Everyone is pro PROGRAMMER \n"
          ]
        }
      ]
    },
    {
      "cell_type": "code",
      "source": [
        "# prompt: strip the sentence \"HE is  BENN  1000000000\n",
        "\n",
        "s = \"HE is  BENN  1000000000\"\n",
        "print(s.strip())\n",
        "\n",
        "\n",
        "\n"
      ],
      "metadata": {
        "id": "Vinp6VpzAu9E",
        "outputId": "20b0aada-9a94-4656-e22f-7a1f08c95934",
        "colab": {
          "base_uri": "https://localhost:8080/"
        }
      },
      "execution_count": null,
      "outputs": [
        {
          "output_type": "stream",
          "name": "stdout",
          "text": [
            "HE is  BENN  1000000000\n"
          ]
        }
      ]
    },
    {
      "cell_type": "code",
      "source": [
        "strip helps to remove space from  infornt or back of the\n",
        "sentence for\n",
        "there are two type of striip\n",
        "lstrip\n",
        "and rstrip\n",
        "\n"
      ],
      "metadata": {
        "id": "YcbviTD-BO9O",
        "outputId": "cee2024e-b2cf-4686-ee51-1045e371ea25",
        "colab": {
          "base_uri": "https://localhost:8080/",
          "height": 106
        }
      },
      "execution_count": null,
      "outputs": [
        {
          "output_type": "error",
          "ename": "SyntaxError",
          "evalue": "invalid syntax (<ipython-input-9-061da66470eb>, line 1)",
          "traceback": [
            "\u001b[0;36m  File \u001b[0;32m\"<ipython-input-9-061da66470eb>\"\u001b[0;36m, line \u001b[0;32m1\u001b[0m\n\u001b[0;31m    strip helps to remove space from  infornt or back of the\u001b[0m\n\u001b[0m          ^\u001b[0m\n\u001b[0;31mSyntaxError\u001b[0m\u001b[0;31m:\u001b[0m invalid syntax\n"
          ]
        }
      ]
    },
    {
      "cell_type": "code",
      "source": [
        "#split\n",
        "s= \"Hello world\"\n",
        "print(s.split())"
      ],
      "metadata": {
        "id": "GVV8neJWBeRt",
        "outputId": "159f948c-41bc-4cae-b04e-a23eff87209d",
        "colab": {
          "base_uri": "https://localhost:8080/"
        }
      },
      "execution_count": null,
      "outputs": [
        {
          "output_type": "stream",
          "name": "stdout",
          "text": [
            "['Hello', 'world']\n"
          ]
        }
      ]
    },
    {
      "cell_type": "code",
      "source": [
        "#join\n",
        "s=\"\"\n",
        "world = \"He is\", \" spiderman\"\n",
        "print(s.join(world))"
      ],
      "metadata": {
        "id": "HLRbqCANC0IH",
        "outputId": "1e3326dc-3d1b-4ca0-94f9-7d0b6e76e2ff",
        "colab": {
          "base_uri": "https://localhost:8080/"
        }
      },
      "execution_count": null,
      "outputs": [
        {
          "output_type": "stream",
          "name": "stdout",
          "text": [
            "He is spiderman\n"
          ]
        }
      ]
    },
    {
      "cell_type": "code",
      "source": [
        "#isdigit\n",
        "s=\"1234\"\n",
        "print(s.isdigit())"
      ],
      "metadata": {
        "id": "GZ6jCkvXC7Pi",
        "outputId": "50ab0d5d-3e4a-45b5-c6d0-6ead47c22b61",
        "colab": {
          "base_uri": "https://localhost:8080/"
        }
      },
      "execution_count": null,
      "outputs": [
        {
          "output_type": "stream",
          "name": "stdout",
          "text": [
            "True\n"
          ]
        }
      ]
    },
    {
      "cell_type": "code",
      "source": [
        "#isupper\n",
        "s=\"HELLO\"\n",
        "print(s.isupper())\n"
      ],
      "metadata": {
        "id": "s7AYzanZEosT",
        "outputId": "6dcd3bc0-16dc-4ee3-c7d0-27c3da677b3f",
        "colab": {
          "base_uri": "https://localhost:8080/"
        }
      },
      "execution_count": null,
      "outputs": [
        {
          "output_type": "stream",
          "name": "stdout",
          "text": [
            "True\n"
          ]
        }
      ]
    },
    {
      "cell_type": "code",
      "source": [
        "#day 2\n",
        "\n"
      ],
      "metadata": {
        "id": "Lu1DmoeiEsV2"
      },
      "execution_count": null,
      "outputs": []
    },
    {
      "cell_type": "code",
      "source": [
        "#day 2\n",
        "\n",
        "# List examples\n",
        "\n",
        "# Creating a list\n",
        "my_list = [1, 2, 3, 4, 5]\n",
        "print(my_list)\n",
        "\n",
        "# Accessing elements\n",
        "print(my_list[0])  # Accessing the first element (index 0)\n",
        "print(my_list[-1]) # Accessing the last element\n",
        "\n",
        "# Slicing a list\n",
        "print(my_list[1:4]) # Elements from index 1 up to (but not including) index 4\n",
        "print(my_list[:3])  # Elements from the beginning up to (but not including) index 3\n",
        "print(my_list[2:])  # Elements from index 2 to the end\n",
        "\n",
        "# Modifying a list\n",
        "my_list[0] = 10\n",
        "print(my_list)\n",
        "\n",
        "# Appending elements\n",
        "my_list.append(6)\n",
        "print(my_list)\n",
        "\n",
        "# Inserting elements\n",
        "my_list.insert(2, 7) # Insert 7 at index 2\n",
        "print(my_list)\n",
        "\n",
        "# Removing elements\n",
        "my_list.remove(4)  # Removes the first occurrence of 4\n",
        "print(my_list)\n",
        "\n",
        "my_list.pop(3)    # Removes the element at index 3\n",
        "print(my_list)\n",
        "\n",
        "# List concatenation\n",
        "list1 = [1, 2, 3]\n",
        "list2 = [4, 5, 6]\n",
        "list3 = list1 + list2\n",
        "print(list3)\n",
        "\n",
        "# List repetition\n",
        "repeated_list = list1 * 3\n",
        "print(repeated_list)\n",
        "\n",
        "\n",
        "# Iterating through a list\n",
        "for item in my_list:\n",
        "  print(item)\n",
        "\n",
        "# Checking if an item exists in a list\n",
        "if 10 in my_list:\n",
        "  print(\"10 is in the list\")\n",
        "\n",
        "\n",
        "# List comprehension\n",
        "squares = [x**2 for x in range(1,6)]\n",
        "print(squares)\n",
        "\n",
        "\n",
        "# Other list methods\n",
        "\n",
        "# len() - Returns the number of elements in the list\n",
        "# min(), max() - Returns the minimum/maximum value in the list\n",
        "# sum() - Returns the sum of all elements in the list\n",
        "# sorted() - Returns a new sorted list\n",
        "# reverse() - Reverses the elements in-place\n",
        "\n",
        "#Nested lists\n",
        "\n",
        "nested_list = [[1,2,3], [4,5,6], [7,8,9]]\n",
        "print(nested_list[1][0]) #accesses 4\n",
        "\n",
        "# Example demonstrating list methods\n",
        "numbers = [3, 1, 4, 1, 5, 9, 2, 6]\n",
        "print(f\"Length of the list: {len(numbers)}\")\n",
        "print(f\"Minimum value in the list: {min(numbers)}\")\n",
        "print(f\"Maximum value in the list: {max(numbers)}\")\n",
        "print(f\"Sum of all elements in the list: {sum(numbers)}\")\n",
        "print(f\"Sorted list: {sorted(numbers)}\")\n",
        "numbers.reverse()\n",
        "print(f\"Reversed list: {numbers}\")\n"
      ],
      "metadata": {
        "id": "ctI8H1Q6EpnX",
        "outputId": "bfb17dc0-29cc-44e4-abb5-24e342d12569",
        "colab": {
          "base_uri": "https://localhost:8080/"
        }
      },
      "execution_count": 1,
      "outputs": [
        {
          "output_type": "stream",
          "name": "stdout",
          "text": [
            "[1, 2, 3, 4, 5]\n",
            "1\n",
            "5\n",
            "[2, 3, 4]\n",
            "[1, 2, 3]\n",
            "[3, 4, 5]\n",
            "[10, 2, 3, 4, 5]\n",
            "[10, 2, 3, 4, 5, 6]\n",
            "[10, 2, 7, 3, 4, 5, 6]\n",
            "[10, 2, 7, 3, 5, 6]\n",
            "[10, 2, 7, 5, 6]\n",
            "[1, 2, 3, 4, 5, 6]\n",
            "[1, 2, 3, 1, 2, 3, 1, 2, 3]\n",
            "10\n",
            "2\n",
            "7\n",
            "5\n",
            "6\n",
            "10 is in the list\n",
            "[1, 4, 9, 16, 25]\n",
            "4\n",
            "Length of the list: 8\n",
            "Minimum value in the list: 1\n",
            "Maximum value in the list: 9\n",
            "Sum of all elements in the list: 31\n",
            "Sorted list: [1, 1, 2, 3, 4, 5, 6, 9]\n",
            "Reversed list: [6, 2, 9, 5, 1, 4, 1, 3]\n"
          ]
        }
      ]
    },
    {
      "cell_type": "code",
      "source": [
        "numbers=[1,2,3,4,5]\n",
        "numbers[1:4]=[6,7,8,9,10]\n",
        "print(numbers)"
      ],
      "metadata": {
        "id": "TKJyptT-LCXs",
        "outputId": "02d6d012-ad01-4683-cd71-ee58a44f0c88",
        "colab": {
          "base_uri": "https://localhost:8080/"
        }
      },
      "execution_count": null,
      "outputs": [
        {
          "output_type": "stream",
          "name": "stdout",
          "text": [
            "[1, 6, 7, 8, 9, 10, 5]\n"
          ]
        }
      ]
    },
    {
      "cell_type": "code",
      "source": [
        "Numbers=[1,2,3,4,5]\n",
        "Numbers= (x for x in Numbers if x%2!=0)\n",
        "print(Numbers)\n"
      ],
      "metadata": {
        "id": "Fi3T69BCLhDj",
        "colab": {
          "base_uri": "https://localhost:8080/"
        },
        "outputId": "9c0a1b6c-5050-4140-ee2a-c2554afdf6d0"
      },
      "execution_count": 6,
      "outputs": [
        {
          "output_type": "stream",
          "name": "stdout",
          "text": [
            "<generator object <genexpr> at 0x7c36c1d026c0>\n"
          ]
        }
      ]
    },
    {
      "cell_type": "code",
      "source": [
        "Numbers=[1,2,3,4,5,6,7]\n",
        "Numbers= [x for x in Numbers if x%2!=0]\n",
        "print(Numbers)"
      ],
      "metadata": {
        "colab": {
          "base_uri": "https://localhost:8080/"
        },
        "id": "9UM4mge1IxEV",
        "outputId": "62616649-7a8c-46ab-9fc9-8a6bd3ccc2cf"
      },
      "execution_count": 8,
      "outputs": [
        {
          "output_type": "stream",
          "name": "stdout",
          "text": [
            "[1, 3, 5, 7]\n"
          ]
        }
      ]
    },
    {
      "cell_type": "code",
      "source": [
        "Numbers=[1,2,3,4,5,6,7]\n",
        "Numbers= [x for x in Numbers if x%2==0]\n",
        "print(Numbers)\n"
      ],
      "metadata": {
        "colab": {
          "base_uri": "https://localhost:8080/"
        },
        "id": "AiIIYKy8JO9I",
        "outputId": "8e72c285-bb94-4a50-85c1-00570a85141c"
      },
      "execution_count": 9,
      "outputs": [
        {
          "output_type": "stream",
          "name": "stdout",
          "text": [
            "[2, 4, 6]\n"
          ]
        }
      ]
    },
    {
      "cell_type": "code",
      "source": [
        "numbers=[1,2,3,4,5,6,7,8,9,0]\n",
        "oddnum=[]\n",
        "evennum=[]\n",
        "for i in numbers:\n",
        "    if i%2==0:\n",
        "        evennum.append(i)\n",
        "    else:\n",
        "        oddnum.append(i)\n",
        "print(evennum)\n",
        "print(oddnum)\n",
        "sortnum= sorted(numbers)\n",
        "print(sortnum)\n",
        "\n"
      ],
      "metadata": {
        "colab": {
          "base_uri": "https://localhost:8080/"
        },
        "id": "8qXmodnOJecz",
        "outputId": "2baf1270-4c61-4984-e0e5-0cb7f42d257d"
      },
      "execution_count": 15,
      "outputs": [
        {
          "output_type": "stream",
          "name": "stdout",
          "text": [
            "[2, 4, 6, 8, 0]\n",
            "[1, 3, 5, 7, 9]\n",
            "[0, 1, 2, 3, 4, 5, 6, 7, 8, 9]\n"
          ]
        }
      ]
    },
    {
      "cell_type": "code",
      "source": [
        "unknown=[[1,2,3,4],[5,6,7,8,]]\n",
        "print(unknown[1][2])\n"
      ],
      "metadata": {
        "colab": {
          "base_uri": "https://localhost:8080/"
        },
        "id": "x3TSuiZMQnqh",
        "outputId": "83611060-41eb-475a-d01e-18d8c5334420"
      },
      "execution_count": 12,
      "outputs": [
        {
          "output_type": "stream",
          "name": "stdout",
          "text": [
            "7\n"
          ]
        }
      ]
    },
    {
      "cell_type": "code",
      "source": [
        "unknown=[[1,2,3],[4,5,6],[7,8,9]]\n",
        "for i in range(len(unknown)):\n",
        "    print(unknown[i][i])\n",
        "print(len(unknown))\n",
        "print(sum(unknown[0]))"
      ],
      "metadata": {
        "colab": {
          "base_uri": "https://localhost:8080/"
        },
        "id": "U6DpshK2RWkM",
        "outputId": "1d8b6007-00e6-4186-ef9a-654fa2ea33c5"
      },
      "execution_count": 27,
      "outputs": [
        {
          "output_type": "stream",
          "name": "stdout",
          "text": [
            "1\n",
            "5\n",
            "9\n",
            "3\n",
            "6\n"
          ]
        }
      ]
    },
    {
      "cell_type": "code",
      "source": [],
      "metadata": {
        "colab": {
          "base_uri": "https://localhost:8080/"
        },
        "id": "QWDJwREVSC7j",
        "outputId": "626be39d-c242-4313-8b41-2b90f36d60e7"
      },
      "execution_count": 23,
      "outputs": [
        {
          "output_type": "stream",
          "name": "stdout",
          "text": [
            "1\n",
            "2\n"
          ]
        }
      ]
    },
    {
      "cell_type": "code",
      "source": [
        "unknown=[[1,2,3],[4,5,6],[7,8,9]]\n",
        "total_sum=0\n",
        "for i in range(len(unknown)):\n",
        "  for j in range(len(unknown[i])):\n",
        "    total_sum=total_sum + unknown[i][j]\n",
        "print(total_sum)"
      ],
      "metadata": {
        "colab": {
          "base_uri": "https://localhost:8080/"
        },
        "id": "iBh7A5guVmnx",
        "outputId": "f45073ab-3fb0-45b7-a3c9-204b643209b7"
      },
      "execution_count": 57,
      "outputs": [
        {
          "output_type": "stream",
          "name": "stdout",
          "text": [
            "45\n"
          ]
        }
      ]
    },
    {
      "cell_type": "code",
      "source": [
        "\n",
        "\n",
        "#copy list\n",
        "thislist=[\"apple\",\"banana\",\"cherry\"]\n",
        "mylist=thislist.copy()\n",
        "thislist.append(\"orange\")\n",
        "print(thislist)\n",
        "print(mylist)\n",
        "thislist.reverse()\n",
        "print(thislist)\n",
        "\n"
      ],
      "metadata": {
        "colab": {
          "base_uri": "https://localhost:8080/"
        },
        "id": "Ld23ANQNXjc2",
        "outputId": "a161e3a2-5bea-4e4a-99c0-b5efb0d88142"
      },
      "execution_count": 58,
      "outputs": [
        {
          "output_type": "stream",
          "name": "stdout",
          "text": [
            "['apple', 'banana', 'cherry', 'orange']\n",
            "['apple', 'banana', 'cherry']\n",
            "['orange', 'cherry', 'banana', 'apple']\n"
          ]
        }
      ]
    },
    {
      "cell_type": "code",
      "source": [
        "tup1=(1,2,3,4,5)\n",
        "tup2=(6,7,8,9,0)\n",
        "tup1.extendtup2\n",
        "print(tup1)"
      ],
      "metadata": {
        "id": "e_LEJF1zdElU",
        "outputId": "e2ec02b0-504b-43f7-b894-8397c73566b2",
        "colab": {
          "base_uri": "https://localhost:8080/",
          "height": 193
        }
      },
      "execution_count": 64,
      "outputs": [
        {
          "output_type": "error",
          "ename": "AttributeError",
          "evalue": "'tuple' object has no attribute 'extendtup2'",
          "traceback": [
            "\u001b[0;31m---------------------------------------------------------------------------\u001b[0m",
            "\u001b[0;31mAttributeError\u001b[0m                            Traceback (most recent call last)",
            "\u001b[0;32m<ipython-input-64-5e2f614540a1>\u001b[0m in \u001b[0;36m<cell line: 3>\u001b[0;34m()\u001b[0m\n\u001b[1;32m      1\u001b[0m \u001b[0mtup1\u001b[0m\u001b[0;34m=\u001b[0m\u001b[0;34m(\u001b[0m\u001b[0;36m1\u001b[0m\u001b[0;34m,\u001b[0m\u001b[0;36m2\u001b[0m\u001b[0;34m,\u001b[0m\u001b[0;36m3\u001b[0m\u001b[0;34m,\u001b[0m\u001b[0;36m4\u001b[0m\u001b[0;34m,\u001b[0m\u001b[0;36m5\u001b[0m\u001b[0;34m)\u001b[0m\u001b[0;34m\u001b[0m\u001b[0;34m\u001b[0m\u001b[0m\n\u001b[1;32m      2\u001b[0m \u001b[0mtup2\u001b[0m\u001b[0;34m=\u001b[0m\u001b[0;34m(\u001b[0m\u001b[0;36m6\u001b[0m\u001b[0;34m,\u001b[0m\u001b[0;36m7\u001b[0m\u001b[0;34m,\u001b[0m\u001b[0;36m8\u001b[0m\u001b[0;34m,\u001b[0m\u001b[0;36m9\u001b[0m\u001b[0;34m,\u001b[0m\u001b[0;36m0\u001b[0m\u001b[0;34m)\u001b[0m\u001b[0;34m\u001b[0m\u001b[0;34m\u001b[0m\u001b[0m\n\u001b[0;32m----> 3\u001b[0;31m \u001b[0mtup1\u001b[0m\u001b[0;34m.\u001b[0m\u001b[0mextendtup2\u001b[0m\u001b[0;34m\u001b[0m\u001b[0;34m\u001b[0m\u001b[0m\n\u001b[0m\u001b[1;32m      4\u001b[0m \u001b[0mprint\u001b[0m\u001b[0;34m(\u001b[0m\u001b[0mtup1\u001b[0m\u001b[0;34m)\u001b[0m\u001b[0;34m\u001b[0m\u001b[0;34m\u001b[0m\u001b[0m\n",
            "\u001b[0;31mAttributeError\u001b[0m: 'tuple' object has no attribute 'extendtup2'"
          ]
        }
      ]
    },
    {
      "cell_type": "code",
      "source": [
        "#converting touple into list\n",
        "Tup1=(1,2,3,4,5)\n",
        "Tup2=(6,7,8,9,0)\n",
        "tup1=list(Tup1)\n",
        "tup2=list(Tup2)\n",
        "tup1.extend(tup2)\n",
        "print(tup1)S\n",
        "Tup1=tuple(tup1)\n",
        "print(Tup1)"
      ],
      "metadata": {
        "id": "t0JvkLWidzHC",
        "outputId": "e5404fb5-b95a-4325-dc74-8ecfc90a02f8",
        "colab": {
          "base_uri": "https://localhost:8080/"
        }
      },
      "execution_count": 71,
      "outputs": [
        {
          "output_type": "stream",
          "name": "stdout",
          "text": [
            "[1, 2, 3, 4, 5, 6, 7, 8, 9, 0]\n",
            "(1, 2, 3, 4, 5, 6, 7, 8, 9, 0)\n"
          ]
        }
      ]
    },
    {
      "cell_type": "code",
      "source": [],
      "metadata": {
        "id": "oxlvThtyeWLy"
      },
      "execution_count": null,
      "outputs": []
    }
  ]
}