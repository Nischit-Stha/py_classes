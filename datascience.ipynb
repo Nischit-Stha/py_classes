{
  "nbformat": 4,
  "nbformat_minor": 0,
  "metadata": {
    "colab": {
      "provenance": [],
      "authorship_tag": "ABX9TyNBFVr7dyFsvJm2CuLF3zS3",
      "include_colab_link": true
    },
    "kernelspec": {
      "name": "python3",
      "display_name": "Python 3"
    },
    "language_info": {
      "name": "python"
    }
  },
  "cells": [
    {
      "cell_type": "markdown",
      "metadata": {
        "id": "view-in-github",
        "colab_type": "text"
      },
      "source": [
        "<a href=\"https://colab.research.google.com/github/Nischit-Stha/py_classes/blob/main/datascience.ipynb\" target=\"_parent\"><img src=\"https://colab.research.google.com/assets/colab-badge.svg\" alt=\"Open In Colab\"/></a>"
      ]
    },
    {
      "cell_type": "code",
      "execution_count": null,
      "metadata": {
        "colab": {
          "base_uri": "https://localhost:8080/"
        },
        "id": "-l_elOLPBJdg",
        "outputId": "4b338be7-8956-416b-dfe5-f7f325b8208b"
      },
      "outputs": [
        {
          "output_type": "stream",
          "name": "stdout",
          "text": [
            "My array: [1 2 3 4 5]\n",
            "Mean: 3.0\n",
            "Sum: 15\n",
            "Standard Deviation: 1.4142135623730951\n"
          ]
        }
      ],
      "source": [
        "import numpy as np\n",
        "\n",
        "# Create a NumPy array\n",
        "my_array = np.array([1, 2, 3, 4, 5])\n",
        "\n",
        "# Print the array\n",
        "print(\"My array:\", my_array)\n",
        "\n",
        "# Calculate the mean of the array\n",
        "mean_value = np.mean(my_array)\n",
        "print(\"Mean:\", mean_value)\n",
        "\n",
        "\n",
        "#Other operations\n",
        "print(\"Sum:\", np.sum(my_array))\n",
        "print(\"Standard Deviation:\", np.std(my_array))"
      ]
    },
    {
      "cell_type": "code",
      "source": [
        "import numpy as np\n",
        "\n",
        "# Create a 2D array\n",
        "my_2d_array = np.array([[1, 2, 3], [4, 5, 6]])\n",
        "print(\"\\n2D Array:\\n\", my_2d_array)\n",
        "\n",
        "# Accessing elements\n",
        "print(\"\\nElement at row 1, column 2:\", my_2d_array[1, 2]) # remember 0 based indexing\n",
        "\n",
        "# Array shape\n",
        "print(\"\\nShape of 2D array:\", my_2d_array.shape)\n",
        "\n",
        "# Array Reshaping\n",
        "reshaped_array = my_2d_array.reshape(3, 2)\n",
        "print(\"\\nReshaped Array:\\n\", reshaped_array)\n",
        "\n",
        "# Array operations\n",
        "array1 = np.array([1, 2, 3])\n",
        "array2 = np.array([4, 5, 6])\n",
        "\n",
        "print(\"\\nArray addition:\", array1 + array2)\n",
        "print(\"\\nArray multiplication:\", array1 * array2)  # Element-wise multiplication\n",
        "\n",
        "# Dot product\n",
        "print(\"\\nDot product:\", np.dot(array1, array2))\n",
        "\n",
        "# Create an array of zeros\n",
        "zeros_array = np.zeros((2, 3))\n",
        "print(\"\\nZeros Array:\\n\", zeros_array)\n",
        "\n",
        "# Create an array of ones\n",
        "ones_array = np.ones((3, 2))\n",
        "print(\"\\nOnes Array:\\n\", ones_array)\n",
        "\n",
        "# Generating sequences\n",
        "sequence_array = np.arange(0, 10, 2) # Start, stop, step\n",
        "print(\"\\nSequence Array:\", sequence_array)\n",
        "\n",
        "\n",
        "# Random numbers\n",
        "random_array = np.random.rand(3,3) # uniform distribution between 0 and 1\n",
        "print(\"\\nRandom Array:\\n\", random_array)\n",
        "\n",
        "\n",
        "random_int_array = np.random.randint(1,10, size=(2,2)) # random integers\n",
        "print(\"\\nRandom integer array:\\n\", random_int_array)"
      ],
      "metadata": {
        "colab": {
          "base_uri": "https://localhost:8080/"
        },
        "id": "k0jp5_ucBsK9",
        "outputId": "a6c43c0e-3494-4c72-8794-c8eafe818d04"
      },
      "execution_count": null,
      "outputs": [
        {
          "output_type": "stream",
          "name": "stdout",
          "text": [
            "\n",
            "2D Array:\n",
            " [[1 2 3]\n",
            " [4 5 6]]\n",
            "\n",
            "Element at row 1, column 2: 6\n",
            "\n",
            "Shape of 2D array: (2, 3)\n",
            "\n",
            "Reshaped Array:\n",
            " [[1 2]\n",
            " [3 4]\n",
            " [5 6]]\n",
            "\n",
            "Array addition: [5 7 9]\n",
            "\n",
            "Array multiplication: [ 4 10 18]\n",
            "\n",
            "Dot product: 32\n",
            "\n",
            "Zeros Array:\n",
            " [[0. 0. 0.]\n",
            " [0. 0. 0.]]\n",
            "\n",
            "Ones Array:\n",
            " [[1. 1.]\n",
            " [1. 1.]\n",
            " [1. 1.]]\n",
            "\n",
            "Sequence Array: [0 2 4 6 8]\n",
            "\n",
            "Random Array:\n",
            " [[0.73740655 0.0441551  0.82302559]\n",
            " [0.44130437 0.38995413 0.74835477]\n",
            " [0.12918342 0.11009648 0.8042141 ]]\n",
            "\n",
            "Random integer array:\n",
            " [[3 9]\n",
            " [2 3]]\n"
          ]
        }
      ]
    },
    {
      "cell_type": "code",
      "source": [
        "#create 2 arry one random value form 0 to 100 and anoter manual value and size of both should bbe 7\n",
        "random_data = np.random.randint(0,100,7)\n",
        "print(random_data)\n",
        "\n",
        "number = input(\"Give me number seprated by comma\")\n",
        "nums = number.split(\",\")\n",
        "\n",
        "nums = [int(num) for num in nums]\n",
        "\n",
        "thirdsum= random_data[2] + nums[-5]\n",
        "print(thirdsum)\n"
      ],
      "metadata": {
        "colab": {
          "base_uri": "https://localhost:8080/"
        },
        "id": "zYkcE7HuCr4c",
        "outputId": "0cd7cb46-5b66-4495-8fd9-95a5d39be27b"
      },
      "execution_count": null,
      "outputs": [
        {
          "output_type": "stream",
          "name": "stdout",
          "text": [
            "[73 67 25 30 15 87 91]\n",
            "Give me number seprated by comma1,2,3,4,5,6,7\n",
            "28\n"
          ]
        }
      ]
    },
    {
      "cell_type": "code",
      "source": [
        "arr= ([1,2,3,4,5,6,7])\n",
        "print(arr)\n",
        "print(np.min(arr))\n",
        "print(np.max(arr))\n",
        "print(np.average(arr))"
      ],
      "metadata": {
        "id": "z-a-k4gPDEEn",
        "colab": {
          "base_uri": "https://localhost:8080/"
        },
        "outputId": "d0b7dd55-0670-4778-db6b-bbcbd71df492"
      },
      "execution_count": null,
      "outputs": [
        {
          "output_type": "stream",
          "name": "stdout",
          "text": [
            "[1, 2, 3, 4, 5, 6, 7]\n",
            "1\n",
            "7\n",
            "4.0\n"
          ]
        }
      ]
    },
    {
      "cell_type": "code",
      "source": [],
      "metadata": {
        "id": "MU-hbz317Zgi"
      },
      "execution_count": null,
      "outputs": []
    },
    {
      "cell_type": "code",
      "source": [
        "print(\"hello world\")"
      ],
      "metadata": {
        "id": "8yNLoQRUIk7z",
        "colab": {
          "base_uri": "https://localhost:8080/"
        },
        "outputId": "395b02fb-02e3-493c-8256-ebc3980420a6"
      },
      "execution_count": null,
      "outputs": [
        {
          "output_type": "stream",
          "name": "stdout",
          "text": [
            "hello world\n"
          ]
        }
      ]
    },
    {
      "cell_type": "code",
      "source": [
        "import pandas as pd\n",
        "import matplotlib.pyplot as plt\n",
        "\n",
        "# Load the dataset\n",
        "df = pd.read_csv('data.csv', parse_dates=['Date'])\n",
        "print(\"This will print 5 datas form top \")\n",
        "print(df.head())\n",
        "print(\"This will print 5 datas form bottom \")\n",
        "print(df.tail())\n",
        "\n",
        "# ---------------------\n",
        "# Basic Data Exploration\n",
        "# ---------------------\n",
        "# Check the structure of the dataset.\n",
        "# - info(): Provides an overview of columns, data types, and non-null counts.\n",
        "# print(\"\\n--- Dataset Information ---\")\n",
        "# print(df.info())\n",
        "\n",
        "# Summary statistics for numerical columns.\n",
        "# - describe(): Calculates count, mean, std, min, max, and quartiles.\n",
        "# print(\"\\n--- Summary Statistics ---\")\n",
        "# print(df.describe())\n",
        "\n",
        "# Check for missing values.\n",
        "# - isnull().sum(): Counts missing values in each column.\n",
        "# print(\"\\n--- Missing Values Check ---\")\n",
        "# print(df.isnull().sum())\n",
        "\n",
        "# ---------------------\n",
        "# Data Wrangling and Analysis\n",
        "# ---------------------\n",
        "\n",
        "# Add a new column for daily returns.\n",
        "# - pct_change(): Calculates the percentage change between consecutive rows.\n",
        "# pct_change= current-previous/previous\n",
        "\n",
        "df[\"daily_return\"] = df.groupby('Symbol')['Close'].pct_change()\n",
        "print(df)\n",
        "\n",
        "# # Add a column for the 30-day moving average.\n",
        "# # - Rolling mean smoothens data and shows trends over time.\n",
        "df['30_Day_MA'] = df.groupby('Symbol')['Close'].transform(lambda x: x.rolling(window=30, min_periods=1).mean())\n",
        "\n",
        "# # Add a column for 30-day volatility (standard deviation of daily returns).\n",
        "df['Volatility'] = df.groupby('Symbol')['daily_return'].transform(lambda x: x.rolling(window=30).std())\n",
        "# print(df)\n",
        "# # Display the first few rows of the updated DataFrame.\n",
        "# print(\"\\n--- Updated Dataset with Calculations ---\")\n",
        "# print(df.head(10))\n",
        "\n",
        "# # ---------------------\n",
        "# # Performance Metrics\n",
        "# # ---------------------\n",
        "# # Calculate aggregate performance metrics for each stock.\n",
        "performance_metrics = df.groupby('Symbol').agg({\n",
        "    'Close': ['last', 'mean'],\n",
        "    'daily_return': ['mean', 'std'],\n",
        "    'Volume': 'mean'\n",
        "}).reset_index()\n",
        "\n",
        "print(performance_metrics)\n",
        "# # Flatten multi-level column names.\n",
        "performance_metrics.columns = ['Symbol', 'Last_Price', 'Avg_Price', 'Avg_Daily_Return', 'Return_Volatility', 'Avg_Volume']\n",
        "print(performance_metrics)\n",
        "\n",
        "# # Add a Sharpe Ratio column.\n",
        "performance_metrics['Sharpe_Ratio'] = performance_metrics['Avg_Daily_Return'] / performance_metrics['Return_Volatility']\n",
        "\n",
        "# # Rank stocks by performance.\n",
        "performance_metrics['Rank'] = performance_metrics['Sharpe_Ratio'].rank(ascending=False)\n",
        "\n",
        "# print(\"\\n--- Performance Metrics ---\")\n",
        "print(performance_metrics)\n",
        "\n",
        "# # ---------------------\n",
        "# # Visualization\n",
        "# # ---------------------\n",
        "# # Plot closing prices over time.\n",
        "plt.figure(figsize=(12, 6))\n",
        "for symbol in df['Symbol'].unique():\n",
        "    stock_data = df[df['Symbol'] == symbol]\n",
        "    plt.plot(stock_data['Date'], stock_data['Close'], label=symbol)\n",
        "\n",
        "# plt.title('Stock Closing Prices Over Time')\n",
        "# plt.xlabel('Date')\n",
        "# plt.ylabel('Closing Price')\n",
        "# plt.legend()\n",
        "# plt.xticks(rotation=45)\n",
        "# plt.tight_layout()\n",
        "# plt.savefig('closing_prices_over_time.png')\n",
        "# plt.show()\n",
        "\n",
        "# # Boxplot for daily returns.\n",
        "# plt.figure(figsize=(10, 6))\n",
        "# sns.boxplot(x='Symbol', y='Daily_Return', data=df)\n",
        "# plt.title('Distribution of Daily Returns by Stock')\n",
        "# plt.xlabel('Stock Symbol')\n",
        "# plt.ylabel('Daily Return')\n",
        "# plt.tight_layout()\n",
        "# plt.savefig('daily_returns_boxplot.png')\n",
        "# plt.show()\n",
        "\n",
        "# # ---------------------\n",
        "# # Export Processed Data\n",
        "# # ---------------------\n",
        "# # Save the updated dataset and performance metrics to CSV files.\n",
        "df.to_csv('processed_stock_data.csv', index=False)\n",
        "performance_metrics.to_csv('performance_metrics.csv', index=False)\n",
        "print(\"\\nProcessed data and performance metrics saved.\")\n"
      ],
      "metadata": {
        "colab": {
          "base_uri": "https://localhost:8080/",
          "height": 356
        },
        "id": "JiAqKNZu8JwZ",
        "outputId": "5e152104-ca76-46d7-f673-e9fd99fc5298"
      },
      "execution_count": null,
      "outputs": [
        {
          "output_type": "error",
          "ename": "FileNotFoundError",
          "evalue": "[Errno 2] No such file or directory: 'data.csv'",
          "traceback": [
            "\u001b[0;31m---------------------------------------------------------------------------\u001b[0m",
            "\u001b[0;31mFileNotFoundError\u001b[0m                         Traceback (most recent call last)",
            "\u001b[0;32m<ipython-input-1-3f45806ad710>\u001b[0m in \u001b[0;36m<cell line: 5>\u001b[0;34m()\u001b[0m\n\u001b[1;32m      3\u001b[0m \u001b[0;34m\u001b[0m\u001b[0m\n\u001b[1;32m      4\u001b[0m \u001b[0;31m# Load the dataset\u001b[0m\u001b[0;34m\u001b[0m\u001b[0;34m\u001b[0m\u001b[0m\n\u001b[0;32m----> 5\u001b[0;31m \u001b[0mdf\u001b[0m \u001b[0;34m=\u001b[0m \u001b[0mpd\u001b[0m\u001b[0;34m.\u001b[0m\u001b[0mread_csv\u001b[0m\u001b[0;34m(\u001b[0m\u001b[0;34m'data.csv'\u001b[0m\u001b[0;34m,\u001b[0m \u001b[0mparse_dates\u001b[0m\u001b[0;34m=\u001b[0m\u001b[0;34m[\u001b[0m\u001b[0;34m'Date'\u001b[0m\u001b[0;34m]\u001b[0m\u001b[0;34m)\u001b[0m\u001b[0;34m\u001b[0m\u001b[0;34m\u001b[0m\u001b[0m\n\u001b[0m\u001b[1;32m      6\u001b[0m \u001b[0mprint\u001b[0m\u001b[0;34m(\u001b[0m\u001b[0;34m\"This will print 5 datas form top \"\u001b[0m\u001b[0;34m)\u001b[0m\u001b[0;34m\u001b[0m\u001b[0;34m\u001b[0m\u001b[0m\n\u001b[1;32m      7\u001b[0m \u001b[0mprint\u001b[0m\u001b[0;34m(\u001b[0m\u001b[0mdf\u001b[0m\u001b[0;34m.\u001b[0m\u001b[0mhead\u001b[0m\u001b[0;34m(\u001b[0m\u001b[0;34m)\u001b[0m\u001b[0;34m)\u001b[0m\u001b[0;34m\u001b[0m\u001b[0;34m\u001b[0m\u001b[0m\n",
            "\u001b[0;32m/usr/local/lib/python3.10/dist-packages/pandas/io/parsers/readers.py\u001b[0m in \u001b[0;36mread_csv\u001b[0;34m(filepath_or_buffer, sep, delimiter, header, names, index_col, usecols, dtype, engine, converters, true_values, false_values, skipinitialspace, skiprows, skipfooter, nrows, na_values, keep_default_na, na_filter, verbose, skip_blank_lines, parse_dates, infer_datetime_format, keep_date_col, date_parser, date_format, dayfirst, cache_dates, iterator, chunksize, compression, thousands, decimal, lineterminator, quotechar, quoting, doublequote, escapechar, comment, encoding, encoding_errors, dialect, on_bad_lines, delim_whitespace, low_memory, memory_map, float_precision, storage_options, dtype_backend)\u001b[0m\n\u001b[1;32m   1024\u001b[0m     \u001b[0mkwds\u001b[0m\u001b[0;34m.\u001b[0m\u001b[0mupdate\u001b[0m\u001b[0;34m(\u001b[0m\u001b[0mkwds_defaults\u001b[0m\u001b[0;34m)\u001b[0m\u001b[0;34m\u001b[0m\u001b[0;34m\u001b[0m\u001b[0m\n\u001b[1;32m   1025\u001b[0m \u001b[0;34m\u001b[0m\u001b[0m\n\u001b[0;32m-> 1026\u001b[0;31m     \u001b[0;32mreturn\u001b[0m \u001b[0m_read\u001b[0m\u001b[0;34m(\u001b[0m\u001b[0mfilepath_or_buffer\u001b[0m\u001b[0;34m,\u001b[0m \u001b[0mkwds\u001b[0m\u001b[0;34m)\u001b[0m\u001b[0;34m\u001b[0m\u001b[0;34m\u001b[0m\u001b[0m\n\u001b[0m\u001b[1;32m   1027\u001b[0m \u001b[0;34m\u001b[0m\u001b[0m\n\u001b[1;32m   1028\u001b[0m \u001b[0;34m\u001b[0m\u001b[0m\n",
            "\u001b[0;32m/usr/local/lib/python3.10/dist-packages/pandas/io/parsers/readers.py\u001b[0m in \u001b[0;36m_read\u001b[0;34m(filepath_or_buffer, kwds)\u001b[0m\n\u001b[1;32m    618\u001b[0m \u001b[0;34m\u001b[0m\u001b[0m\n\u001b[1;32m    619\u001b[0m     \u001b[0;31m# Create the parser.\u001b[0m\u001b[0;34m\u001b[0m\u001b[0;34m\u001b[0m\u001b[0m\n\u001b[0;32m--> 620\u001b[0;31m     \u001b[0mparser\u001b[0m \u001b[0;34m=\u001b[0m \u001b[0mTextFileReader\u001b[0m\u001b[0;34m(\u001b[0m\u001b[0mfilepath_or_buffer\u001b[0m\u001b[0;34m,\u001b[0m \u001b[0;34m**\u001b[0m\u001b[0mkwds\u001b[0m\u001b[0;34m)\u001b[0m\u001b[0;34m\u001b[0m\u001b[0;34m\u001b[0m\u001b[0m\n\u001b[0m\u001b[1;32m    621\u001b[0m \u001b[0;34m\u001b[0m\u001b[0m\n\u001b[1;32m    622\u001b[0m     \u001b[0;32mif\u001b[0m \u001b[0mchunksize\u001b[0m \u001b[0;32mor\u001b[0m \u001b[0miterator\u001b[0m\u001b[0;34m:\u001b[0m\u001b[0;34m\u001b[0m\u001b[0;34m\u001b[0m\u001b[0m\n",
            "\u001b[0;32m/usr/local/lib/python3.10/dist-packages/pandas/io/parsers/readers.py\u001b[0m in \u001b[0;36m__init__\u001b[0;34m(self, f, engine, **kwds)\u001b[0m\n\u001b[1;32m   1618\u001b[0m \u001b[0;34m\u001b[0m\u001b[0m\n\u001b[1;32m   1619\u001b[0m         \u001b[0mself\u001b[0m\u001b[0;34m.\u001b[0m\u001b[0mhandles\u001b[0m\u001b[0;34m:\u001b[0m \u001b[0mIOHandles\u001b[0m \u001b[0;34m|\u001b[0m \u001b[0;32mNone\u001b[0m \u001b[0;34m=\u001b[0m \u001b[0;32mNone\u001b[0m\u001b[0;34m\u001b[0m\u001b[0;34m\u001b[0m\u001b[0m\n\u001b[0;32m-> 1620\u001b[0;31m         \u001b[0mself\u001b[0m\u001b[0;34m.\u001b[0m\u001b[0m_engine\u001b[0m \u001b[0;34m=\u001b[0m \u001b[0mself\u001b[0m\u001b[0;34m.\u001b[0m\u001b[0m_make_engine\u001b[0m\u001b[0;34m(\u001b[0m\u001b[0mf\u001b[0m\u001b[0;34m,\u001b[0m \u001b[0mself\u001b[0m\u001b[0;34m.\u001b[0m\u001b[0mengine\u001b[0m\u001b[0;34m)\u001b[0m\u001b[0;34m\u001b[0m\u001b[0;34m\u001b[0m\u001b[0m\n\u001b[0m\u001b[1;32m   1621\u001b[0m \u001b[0;34m\u001b[0m\u001b[0m\n\u001b[1;32m   1622\u001b[0m     \u001b[0;32mdef\u001b[0m \u001b[0mclose\u001b[0m\u001b[0;34m(\u001b[0m\u001b[0mself\u001b[0m\u001b[0;34m)\u001b[0m \u001b[0;34m->\u001b[0m \u001b[0;32mNone\u001b[0m\u001b[0;34m:\u001b[0m\u001b[0;34m\u001b[0m\u001b[0;34m\u001b[0m\u001b[0m\n",
            "\u001b[0;32m/usr/local/lib/python3.10/dist-packages/pandas/io/parsers/readers.py\u001b[0m in \u001b[0;36m_make_engine\u001b[0;34m(self, f, engine)\u001b[0m\n\u001b[1;32m   1878\u001b[0m                 \u001b[0;32mif\u001b[0m \u001b[0;34m\"b\"\u001b[0m \u001b[0;32mnot\u001b[0m \u001b[0;32min\u001b[0m \u001b[0mmode\u001b[0m\u001b[0;34m:\u001b[0m\u001b[0;34m\u001b[0m\u001b[0;34m\u001b[0m\u001b[0m\n\u001b[1;32m   1879\u001b[0m                     \u001b[0mmode\u001b[0m \u001b[0;34m+=\u001b[0m \u001b[0;34m\"b\"\u001b[0m\u001b[0;34m\u001b[0m\u001b[0;34m\u001b[0m\u001b[0m\n\u001b[0;32m-> 1880\u001b[0;31m             self.handles = get_handle(\n\u001b[0m\u001b[1;32m   1881\u001b[0m                 \u001b[0mf\u001b[0m\u001b[0;34m,\u001b[0m\u001b[0;34m\u001b[0m\u001b[0;34m\u001b[0m\u001b[0m\n\u001b[1;32m   1882\u001b[0m                 \u001b[0mmode\u001b[0m\u001b[0;34m,\u001b[0m\u001b[0;34m\u001b[0m\u001b[0;34m\u001b[0m\u001b[0m\n",
            "\u001b[0;32m/usr/local/lib/python3.10/dist-packages/pandas/io/common.py\u001b[0m in \u001b[0;36mget_handle\u001b[0;34m(path_or_buf, mode, encoding, compression, memory_map, is_text, errors, storage_options)\u001b[0m\n\u001b[1;32m    871\u001b[0m         \u001b[0;32mif\u001b[0m \u001b[0mioargs\u001b[0m\u001b[0;34m.\u001b[0m\u001b[0mencoding\u001b[0m \u001b[0;32mand\u001b[0m \u001b[0;34m\"b\"\u001b[0m \u001b[0;32mnot\u001b[0m \u001b[0;32min\u001b[0m \u001b[0mioargs\u001b[0m\u001b[0;34m.\u001b[0m\u001b[0mmode\u001b[0m\u001b[0;34m:\u001b[0m\u001b[0;34m\u001b[0m\u001b[0;34m\u001b[0m\u001b[0m\n\u001b[1;32m    872\u001b[0m             \u001b[0;31m# Encoding\u001b[0m\u001b[0;34m\u001b[0m\u001b[0;34m\u001b[0m\u001b[0m\n\u001b[0;32m--> 873\u001b[0;31m             handle = open(\n\u001b[0m\u001b[1;32m    874\u001b[0m                 \u001b[0mhandle\u001b[0m\u001b[0;34m,\u001b[0m\u001b[0;34m\u001b[0m\u001b[0;34m\u001b[0m\u001b[0m\n\u001b[1;32m    875\u001b[0m                 \u001b[0mioargs\u001b[0m\u001b[0;34m.\u001b[0m\u001b[0mmode\u001b[0m\u001b[0;34m,\u001b[0m\u001b[0;34m\u001b[0m\u001b[0;34m\u001b[0m\u001b[0m\n",
            "\u001b[0;31mFileNotFoundError\u001b[0m: [Errno 2] No such file or directory: 'data.csv'"
          ]
        }
      ]
    },
    {
      "cell_type": "code",
      "source": [
        "\n"
      ],
      "metadata": {
        "id": "BN23nxv08hT4"
      },
      "execution_count": null,
      "outputs": []
    },
    {
      "cell_type": "code",
      "source": [],
      "metadata": {
        "id": "YtsRuCrO-NQS"
      },
      "execution_count": null,
      "outputs": []
    }
  ]
}